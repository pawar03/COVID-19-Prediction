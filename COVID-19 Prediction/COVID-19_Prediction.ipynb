{
 "cells": [
  {
   "cell_type": "code",
   "execution_count": null,
   "metadata": {
    "colab": {
     "base_uri": "https://localhost:8080/",
     "height": 439
    },
    "executionInfo": {
     "elapsed": 1067,
     "status": "ok",
     "timestamp": 1611239075195,
     "user": {
      "displayName": "likarajo",
      "photoUrl": "https://lh3.googleusercontent.com/-Db9hrounrqg/AAAAAAAAAAI/AAAAAAAAkUw/GvMp5z1vaY4/s64/photo.jpg",
      "userId": "12408627446919859441"
     },
     "user_tz": 360
    },
    "id": "as68MlpU92Z2",
    "outputId": "45814125-3e9f-4ddd-ee2f-93d29d6bcbaf"
   },
   "outputs": [],
   "source": [
    "import pandas as pd\n",
    "\n",
    "bcell = pd.read_csv('input_bcell.csv')\n",
    "bcell"
   ]
  },
  {
   "cell_type": "code",
   "execution_count": null,
   "metadata": {
    "colab": {
     "base_uri": "https://localhost:8080/",
     "height": 439
    },
    "executionInfo": {
     "elapsed": 603,
     "status": "ok",
     "timestamp": 1611239079526,
     "user": {
      "displayName": "likarajo",
      "photoUrl": "https://lh3.googleusercontent.com/-Db9hrounrqg/AAAAAAAAAAI/AAAAAAAAkUw/GvMp5z1vaY4/s64/photo.jpg",
      "userId": "12408627446919859441"
     },
     "user_tz": 360
    },
    "id": "gHPxduJujm_s",
    "outputId": "f161abd0-876a-41a8-c99b-b38b9e02c8d2"
   },
   "outputs": [],
   "source": [
    "sars = pd.read_csv('input_sars.csv')\n",
    "sars"
   ]
  },
  {
   "cell_type": "code",
   "execution_count": null,
   "metadata": {
    "colab": {
     "base_uri": "https://localhost:8080/",
     "height": 439
    },
    "executionInfo": {
     "elapsed": 410,
     "status": "ok",
     "timestamp": 1611239083106,
     "user": {
      "displayName": "likarajo",
      "photoUrl": "https://lh3.googleusercontent.com/-Db9hrounrqg/AAAAAAAAAAI/AAAAAAAAkUw/GvMp5z1vaY4/s64/photo.jpg",
      "userId": "12408627446919859441"
     },
     "user_tz": 360
    },
    "id": "WiJj7Qqs1oZy",
    "outputId": "9ed5fb7c-11e6-4e85-dc29-115145e2ee88"
   },
   "outputs": [],
   "source": [
    "bs = pd.concat([bcell, sars], ignore_index=True)\n",
    "bs"
   ]
  },
  {
   "cell_type": "code",
   "execution_count": null,
   "metadata": {
    "colab": {
     "base_uri": "https://localhost:8080/"
    },
    "executionInfo": {
     "elapsed": 986,
     "status": "ok",
     "timestamp": 1611176876054,
     "user": {
      "displayName": "likarajo",
      "photoUrl": "https://lh3.googleusercontent.com/-Db9hrounrqg/AAAAAAAAAAI/AAAAAAAAkUw/GvMp5z1vaY4/s64/photo.jpg",
      "userId": "12408627446919859441"
     },
     "user_tz": 360
    },
    "id": "hJBAi4YV-h1o",
    "outputId": "c3750b7f-23ed-4d1a-96c0-27f23f18789e"
   },
   "outputs": [],
   "source": [
    "#Inspect the data: Types of features, Nullvalues and statistics\n",
    "bs.info()"
   ]
  },
  {
   "cell_type": "code",
   "execution_count": null,
   "metadata": {
    "colab": {
     "base_uri": "https://localhost:8080/"
    },
    "executionInfo": {
     "elapsed": 977,
     "status": "ok",
     "timestamp": 1611176876055,
     "user": {
      "displayName": "likarajo",
      "photoUrl": "https://lh3.googleusercontent.com/-Db9hrounrqg/AAAAAAAAAAI/AAAAAAAAkUw/GvMp5z1vaY4/s64/photo.jpg",
      "userId": "12408627446919859441"
     },
     "user_tz": 360
    },
    "id": "N6IV13GiSxzU",
    "outputId": "d542b185-b79b-46ca-b8bd-3def1845f5f1"
   },
   "outputs": [],
   "source": [
    "categorical_features = bs.select_dtypes(include=['object']).columns.tolist()\n",
    "print(len(categorical_features), categorical_features)\n",
    "continuous_features = bs.select_dtypes(include=['int64', 'float64']).columns.tolist()\n",
    "continuous_features.remove('target')\n",
    "print(len(continuous_features), continuous_features)                                  "
   ]
  },
  {
   "cell_type": "code",
   "execution_count": null,
   "metadata": {
    "colab": {
     "base_uri": "https://localhost:8080/",
     "height": 439
    },
    "executionInfo": {
     "elapsed": 1187,
     "status": "ok",
     "timestamp": 1611239090742,
     "user": {
      "displayName": "likarajo",
      "photoUrl": "https://lh3.googleusercontent.com/-Db9hrounrqg/AAAAAAAAAAI/AAAAAAAAkUw/GvMp5z1vaY4/s64/photo.jpg",
      "userId": "12408627446919859441"
     },
     "user_tz": 360
    },
    "id": "FpU6oZKf5Mkz",
    "outputId": "e7a66d45-e10f-4d80-b5d5-87705c347192"
   },
   "outputs": [],
   "source": [
    "#Data Preprocessing\n",
    "#Find length of protein sequence\n",
    "#Find length of peptide\n",
    "#Find peptide region\n",
    "#Drop unnecessary columns\n",
    "bs['protein_seq_length'] = bs.apply(lambda x: len(x.protein_seq), axis=1)\n",
    "bs['peptide_length'] = bs.apply(lambda x: len(x.peptide_seq), axis=1)\n",
    "bs['peptide_region'] = bs.apply(lambda x: x.peptide_length/x.protein_seq_length, axis=1)\n",
    "\n",
    "bs = bs.drop(columns=['parent_protein_id','protein_seq','peptide_seq','start_position','end_position'])\n",
    "bs"
   ]
  },
  {
   "cell_type": "code",
   "execution_count": null,
   "metadata": {
    "colab": {
     "base_uri": "https://localhost:8080/"
    },
    "executionInfo": {
     "elapsed": 1500,
     "status": "ok",
     "timestamp": 1611176876613,
     "user": {
      "displayName": "likarajo",
      "photoUrl": "https://lh3.googleusercontent.com/-Db9hrounrqg/AAAAAAAAAAI/AAAAAAAAkUw/GvMp5z1vaY4/s64/photo.jpg",
      "userId": "12408627446919859441"
     },
     "user_tz": 360
    },
    "id": "UmoTF9GH5Uyz",
    "outputId": "57f34a53-a9dd-4753-8d6d-cb1b92ad24ef"
   },
   "outputs": [],
   "source": [
    "bs.info()"
   ]
  },
  {
   "cell_type": "code",
   "execution_count": null,
   "metadata": {
    "colab": {
     "base_uri": "https://localhost:8080/"
    },
    "executionInfo": {
     "elapsed": 63002,
     "status": "ok",
     "timestamp": 1611239161139,
     "user": {
      "displayName": "likarajo",
      "photoUrl": "https://lh3.googleusercontent.com/-Db9hrounrqg/AAAAAAAAAAI/AAAAAAAAkUw/GvMp5z1vaY4/s64/photo.jpg",
      "userId": "12408627446919859441"
     },
     "user_tz": 360
    },
    "id": "Ds1woMRE5apw",
    "outputId": "e88960fd-300f-470a-e6ae-63169186fb8f"
   },
   "outputs": [],
   "source": [
    "#Build the model\n",
    "#Experiment with different models\n",
    "try:\n",
    "  from pycaret.classification import *\n",
    "except ModuleNotFoundError:\n",
    "  !pip install pycaret\n",
    "  from pycaret.classification import *"
   ]
  },
  {
   "cell_type": "code",
   "execution_count": null,
   "metadata": {
    "executionInfo": {
     "elapsed": 375,
     "status": "ok",
     "timestamp": 1611239182200,
     "user": {
      "displayName": "likarajo",
      "photoUrl": "https://lh3.googleusercontent.com/-Db9hrounrqg/AAAAAAAAAAI/AAAAAAAAkUw/GvMp5z1vaY4/s64/photo.jpg",
      "userId": "12408627446919859441"
     },
     "user_tz": 360
    },
    "id": "VTXS0UlN7ZkC"
   },
   "outputs": [],
   "source": [
    "#Split data to train and test sets\n",
    "from sklearn.model_selection import train_test_split"
   ]
  },
  {
   "cell_type": "code",
   "execution_count": null,
   "metadata": {
    "colab": {
     "base_uri": "https://localhost:8080/"
    },
    "executionInfo": {
     "elapsed": 482,
     "status": "ok",
     "timestamp": 1611239184368,
     "user": {
      "displayName": "likarajo",
      "photoUrl": "https://lh3.googleusercontent.com/-Db9hrounrqg/AAAAAAAAAAI/AAAAAAAAkUw/GvMp5z1vaY4/s64/photo.jpg",
      "userId": "12408627446919859441"
     },
     "user_tz": 360
    },
    "id": "RPLKD67G7lHF",
    "outputId": "6661e680-2ea9-4856-9b1e-6775b18b0a6e"
   },
   "outputs": [],
   "source": [
    "train, test = train_test_split(bs, test_size=0.2)\n",
    "\n",
    "print(train.shape)\n",
    "print(test.shape)"
   ]
  },
  {
   "cell_type": "code",
   "execution_count": null,
   "metadata": {
    "colab": {
     "base_uri": "https://localhost:8080/",
     "height": 1000,
     "referenced_widgets": [
      "4adce07689ea4f8890a0e1851451e3c3",
      "63cade4945ab4667826a2c9456f5a997",
      "2be22f2cee4740a8833c9664ad23e4d0",
      "99e3626b1a4c46eebb4c4c4c3bd65e73",
      "1aaf6b876dca40d5b908891bffadce07",
      "e9577f2267894a61a8e6ff29077e43d6"
     ]
    },
    "executionInfo": {
     "elapsed": 23857,
     "status": "ok",
     "timestamp": 1611239215605,
     "user": {
      "displayName": "likarajo",
      "photoUrl": "https://lh3.googleusercontent.com/-Db9hrounrqg/AAAAAAAAAAI/AAAAAAAAkUw/GvMp5z1vaY4/s64/photo.jpg",
      "userId": "12408627446919859441"
     },
     "user_tz": 360
    },
    "id": "KkBsfg0a7NXU",
    "outputId": "c45b6182-a01d-4f41-f298-566edb80ab4f"
   },
   "outputs": [],
   "source": [
    "#Setup experiment\n",
    "experiment = setup(data=train, target='target', normalize=True)"
   ]
  },
  {
   "cell_type": "code",
   "execution_count": null,
   "metadata": {
    "colab": {
     "base_uri": "https://localhost:8080/",
     "height": 650,
     "referenced_widgets": [
      "d382c9dd383648bf86c1d4ea1c96c5a6",
      "6b09b0c4ea144e779f2add24bc16bee2",
      "fd1ee77d2ae942879e7b81bb751ea9ce"
     ]
    },
    "executionInfo": {
     "elapsed": 138340,
     "status": "ok",
     "timestamp": 1611239365598,
     "user": {
      "displayName": "likarajo",
      "photoUrl": "https://lh3.googleusercontent.com/-Db9hrounrqg/AAAAAAAAAAI/AAAAAAAAkUw/GvMp5z1vaY4/s64/photo.jpg",
      "userId": "12408627446919859441"
     },
     "user_tz": 360
    },
    "id": "gSDaStks8eSB",
    "outputId": "bd49b346-cced-4a98-a510-6cb10867ebe6"
   },
   "outputs": [],
   "source": [
    "compare_models()"
   ]
  },
  {
   "cell_type": "code",
   "execution_count": null,
   "metadata": {
    "executionInfo": {
     "elapsed": 395,
     "status": "ok",
     "timestamp": 1611239495251,
     "user": {
      "displayName": "likarajo",
      "photoUrl": "https://lh3.googleusercontent.com/-Db9hrounrqg/AAAAAAAAAAI/AAAAAAAAkUw/GvMp5z1vaY4/s64/photo.jpg",
      "userId": "12408627446919859441"
     },
     "user_tz": 360
    },
    "id": "3Puaoss94s9n"
   },
   "outputs": [],
   "source": [
    "from sklearn.metrics import roc_auc_score\n",
    "\n",
    "results = pd.DataFrame(columns=['Classifier', 'ModelType', 'AUC'])"
   ]
  },
  {
   "cell_type": "code",
   "execution_count": null,
   "metadata": {
    "colab": {
     "base_uri": "https://localhost:8080/",
     "height": 438,
     "referenced_widgets": [
      "7711f894795349f2bd348f0cd3529b9f",
      "b7fa5809a2214c388fcb2844fae873ad",
      "6831966f88574887b61d1d5c008bc05d",
      "387ba5b0b6644a788f8a2f6b7d3a6cfb",
      "ba1562c930b8409599591d07f8ca450a",
      "1b13a98738ae4322a268891f001f901d",
      "1be821f95d86437bb22fd35ffc48ef82",
      "b5a8404c2a344e6595a4f1d3c70a1d2c",
      "bf9565c7b1b24c92b83b0e03b36e892e",
      "1d67e0a3af9f424395eb058a914e02ef",
      "fc93e8eea4ba4b55854b77f54a78e114",
      "d24bda5bf91249129b5e9e7a3b5bb3b2",
      "e84b796e183e4ae5b3f8c1df31668c8b",
      "72c986d1c1a9483bbcb9bacd2919309b",
      "2be6002b812f453aac75b4a059af40e7",
      "2d34cfefa84c4d948f926511f03e6ed4",
      "f3029dfa5b53474b9997843ed096bbe0",
      "fd2455ee141945db841009fe6a4cce95",
      "a687f4b6663f4e11892b0d4e9912416d",
      "0387432d0255444b827075b66775626c",
      "92a15d7eb8e54d7686f509113b9d2268",
      "6c090c6a19a2478fa07246c62637f329",
      "2d9d216b258448238dd3857305813344",
      "1a8c2c4e496641328682c7a2c22c2aad",
      "cbdab130298b40d3ada12a86624a7dee",
      "cdfb9e43e1ce4ec19c677c9dc14958ae",
      "578f735abd1b4b9da0c316807d0d8b84",
      "49a010fcec2740b5b8c25eda7a91f8a8",
      "75edc2faa9cf47b78e10d78678e54a5d",
      "4a77d9b6cf494c7a84e87d0cf08cd15c",
      "8e8ec46141224b5f912176dbba766c9f",
      "f1b7c168a64144d8ba2c98057607516d",
      "cb0775aa83664e158f5ac15c30c2b8ad",
      "b14f93e0d7ad4fbb943903f07651059d",
      "63b80e3da75c41dfa0bab39df752d57e",
      "7d033e382c3f4d8f81942d081ae65dd6",
      "280bb6c750b449c48bf252c84eeee320",
      "adf77bce5c2a4dbd886a252a0d67503b",
      "673da3bced0f4b9bb2332ba5645c9070",
      "7b85fe9d1a774e7ca4d1667519b4297e",
      "6c9147c257e64fa78bcf265c3b6c6a7b",
      "110488d413774d118e277866d63ff233",
      "78367bde657f44c1aba30ba38b7c5853",
      "2c8748d02b5547e582e1b36012eb2400",
      "6c49ab1a7e5543e688de0da6b81d4666"
     ]
    },
    "executionInfo": {
     "elapsed": 2385117,
     "status": "ok",
     "timestamp": 1611241881889,
     "user": {
      "displayName": "likarajo",
      "photoUrl": "https://lh3.googleusercontent.com/-Db9hrounrqg/AAAAAAAAAAI/AAAAAAAAkUw/GvMp5z1vaY4/s64/photo.jpg",
      "userId": "12408627446919859441"
     },
     "user_tz": 360
    },
    "id": "kNO35J0t--qV",
    "outputId": "04e24bb1-9438-463e-baa0-619792aba081"
   },
   "outputs": [],
   "source": [
    "best_models = ['rf', 'et', 'lightgbm', 'catboost', 'xgboost']\n",
    "\n",
    "for m in best_models:\n",
    "  print('MODEL: ', m)\n",
    "\n",
    "  print('Creating model...')\n",
    "  model = create_model(m)\n",
    "  pred_model = predict_model(model, test)\n",
    "  pred_model.dropna(inplace=True)\n",
    "  try:\n",
    "    results.loc[len(results)] = [m, 'Model', roc_auc_score(pred_model['target'], pred_model['Label'])]\n",
    "  except:\n",
    "    results.loc[len(results)] = [m, 'Model', 'NA']\n",
    "\n",
    "  print('Tuning model...')\n",
    "  model_tuned = tune_model(model)\n",
    "  pred_model_tuned = predict_model(model_tuned, test)\n",
    "  pred_model_tuned.dropna(inplace=True)\n",
    "  try:\n",
    "    results.loc[len(results)] = [m, 'Tuned Model', roc_auc_score(pred_model_tuned['target'], pred_model_tuned['Label'])]\n",
    "  except:\n",
    "    results.loc[len(results)] = [m, 'Tuned Model', 'NA']\n",
    "\n",
    "  print('Ensembling model...')\n",
    "  model_ensembled = ensemble_model(model)\n",
    "  pred_model_ensembled = predict_model(model_ensembled, test)\n",
    "  pred_model_ensembled.dropna(inplace=True)\n",
    "  try:\n",
    "    results.loc[len(results)] = [m, 'Ensembled Model', roc_auc_score(pred_model_ensembled['target'], pred_model_ensembled['Label'])]\n",
    "  except:\n",
    "    results.loc[len(results)] = [m, 'Ensembled Model', 'NA']\n",
    "\n",
    "  print()"
   ]
  },
  {
   "cell_type": "code",
   "execution_count": null,
   "metadata": {
    "colab": {
     "base_uri": "https://localhost:8080/"
    },
    "executionInfo": {
     "elapsed": 353,
     "status": "ok",
     "timestamp": 1611242510805,
     "user": {
      "displayName": "likarajo",
      "photoUrl": "https://lh3.googleusercontent.com/-Db9hrounrqg/AAAAAAAAAAI/AAAAAAAAkUw/GvMp5z1vaY4/s64/photo.jpg",
      "userId": "12408627446919859441"
     },
     "user_tz": 360
    },
    "id": "RvxuoqWI-0BH",
    "outputId": "6d74371d-785d-44fa-d314-2f205ae009d7"
   },
   "outputs": [],
   "source": [
    "#Check model with Best AUC\n",
    "print(results.sort_values(by=['AUC'], ascending=False))"
   ]
  },
  {
   "cell_type": "code",
   "execution_count": null,
   "metadata": {
    "colab": {
     "base_uri": "https://localhost:8080/",
     "height": 421,
     "referenced_widgets": [
      "5e173b5b8fed4d3b9d567d37492bca4d",
      "d84d8d6b07244d3893f2e4a3ca08db6a",
      "f710a5d30d2448239c8c78a7d842a747"
     ]
    },
    "executionInfo": {
     "elapsed": 16032,
     "status": "ok",
     "timestamp": 1611242632998,
     "user": {
      "displayName": "likarajo",
      "photoUrl": "https://lh3.googleusercontent.com/-Db9hrounrqg/AAAAAAAAAAI/AAAAAAAAkUw/GvMp5z1vaY4/s64/photo.jpg",
      "userId": "12408627446919859441"
     },
     "user_tz": 360
    },
    "id": "UXUYdk313Kcr",
    "outputId": "ff1160f9-cc5a-4d58-f99f-237df3b6748b"
   },
   "outputs": [],
   "source": [
    "#Create the berst model\n",
    "#Tuned Random forest\n",
    "rf = create_model('rf')"
   ]
  },
  {
   "cell_type": "code",
   "execution_count": null,
   "metadata": {
    "colab": {
     "base_uri": "https://localhost:8080/",
     "height": 421,
     "referenced_widgets": [
      "5bfb39a8c5fb4b09a78df80b1f836f6a",
      "fc1b219a79e34204aeddd72c5364e3c8",
      "b5a46dff2fa14f0b9ccd0ce897ca6833"
     ]
    },
    "executionInfo": {
     "elapsed": 121396,
     "status": "ok",
     "timestamp": 1611242803270,
     "user": {
      "displayName": "likarajo",
      "photoUrl": "https://lh3.googleusercontent.com/-Db9hrounrqg/AAAAAAAAAAI/AAAAAAAAkUw/GvMp5z1vaY4/s64/photo.jpg",
      "userId": "12408627446919859441"
     },
     "user_tz": 360
    },
    "id": "gIwAfXZdizhP",
    "outputId": "26f374d7-03a1-45b0-cff5-0f1b9d20e2db"
   },
   "outputs": [],
   "source": [
    "rf_tuned = tune_model(rf)"
   ]
  },
  {
   "cell_type": "code",
   "execution_count": null,
   "metadata": {
    "colab": {
     "base_uri": "https://localhost:8080/",
     "height": 376,
     "referenced_widgets": [
      "16828ff07ef34b389f45e1aabae06ffd",
      "87278e3304584f389609ee8462fa379f",
      "9087c1f908f646178ebf0fcf1d33002e"
     ]
    },
    "executionInfo": {
     "elapsed": 1232,
     "status": "ok",
     "timestamp": 1611242954301,
     "user": {
      "displayName": "likarajo",
      "photoUrl": "https://lh3.googleusercontent.com/-Db9hrounrqg/AAAAAAAAAAI/AAAAAAAAkUw/GvMp5z1vaY4/s64/photo.jpg",
      "userId": "12408627446919859441"
     },
     "user_tz": 360
    },
    "id": "DUM4ZKLKj0lr",
    "outputId": "21d87fce-9314-419a-cf7a-95a7e0d8bf9e"
   },
   "outputs": [],
   "source": [
    "#Evaluate the model\n",
    "#ROC AUC\n",
    "plot_model(rf_tuned)"
   ]
  },
  {
   "cell_type": "code",
   "execution_count": null,
   "metadata": {
    "colab": {
     "base_uri": "https://localhost:8080/",
     "height": 401,
     "referenced_widgets": [
      "510b4d1f746e42ddbbbe41a37b3cfade",
      "5b921e0dc1664464bf011683a3d2cc34",
      "a15185b88e3d4883b54e645cd5025e48"
     ]
    },
    "executionInfo": {
     "elapsed": 1059,
     "status": "ok",
     "timestamp": 1611243014422,
     "user": {
      "displayName": "likarajo",
      "photoUrl": "https://lh3.googleusercontent.com/-Db9hrounrqg/AAAAAAAAAAI/AAAAAAAAkUw/GvMp5z1vaY4/s64/photo.jpg",
      "userId": "12408627446919859441"
     },
     "user_tz": 360
    },
    "id": "XKw46ZJ3jDWy",
    "outputId": "0c9aa334-c648-4cd3-9c0a-e093b35927fd"
   },
   "outputs": [],
   "source": [
    "#Confusion matrix\n",
    "plot_model(rf_tuned, 'confusion_matrix')"
   ]
  },
  {
   "cell_type": "code",
   "execution_count": null,
   "metadata": {
    "colab": {
     "base_uri": "https://localhost:8080/",
     "height": 376,
     "referenced_widgets": [
      "fec49322c61f497095c273c155296100",
      "a62f91128d1a4760b31618edd6cd9775",
      "51de94c6e9ec441f9f89f6bedad5784e"
     ]
    },
    "executionInfo": {
     "elapsed": 80392,
     "status": "ok",
     "timestamp": 1611243128062,
     "user": {
      "displayName": "likarajo",
      "photoUrl": "https://lh3.googleusercontent.com/-Db9hrounrqg/AAAAAAAAAAI/AAAAAAAAkUw/GvMp5z1vaY4/s64/photo.jpg",
      "userId": "12408627446919859441"
     },
     "user_tz": 360
    },
    "id": "oIoVL27dkUS1",
    "outputId": "364bd50e-096d-4401-e462-fa4fffd125ab"
   },
   "outputs": [],
   "source": [
    "#Discrimination threshold\n",
    "plot_model(rf_tuned, 'threshold')"
   ]
  },
  {
   "cell_type": "code",
   "execution_count": null,
   "metadata": {
    "colab": {
     "base_uri": "https://localhost:8080/",
     "height": 401,
     "referenced_widgets": [
      "91575d7c5dfc4f6c8a7cf32bf28a83e8",
      "76e0afdd533d4171b726caf4303c2c91",
      "5cff74918e79401583ec84f4088e8f86"
     ]
    },
    "executionInfo": {
     "elapsed": 1145,
     "status": "ok",
     "timestamp": 1611243150658,
     "user": {
      "displayName": "likarajo",
      "photoUrl": "https://lh3.googleusercontent.com/-Db9hrounrqg/AAAAAAAAAAI/AAAAAAAAkUw/GvMp5z1vaY4/s64/photo.jpg",
      "userId": "12408627446919859441"
     },
     "user_tz": 360
    },
    "id": "CwoRqunGkcrA",
    "outputId": "07436250-60ce-4079-a000-2c2415eba703"
   },
   "outputs": [],
   "source": [
    "#Class prediction error\n",
    "plot_model(rf_tuned, 'error')"
   ]
  },
  {
   "cell_type": "code",
   "execution_count": null,
   "metadata": {
    "colab": {
     "base_uri": "https://localhost:8080/",
     "height": 401,
     "referenced_widgets": [
      "6bcee83cf3354074b890bde5d41c35f8",
      "191f2c966aba4f60b8a4807fd80eb076",
      "4c83e5b447b844c4a7edece81c8a9c2e"
     ]
    },
    "executionInfo": {
     "elapsed": 1178,
     "status": "ok",
     "timestamp": 1611243173291,
     "user": {
      "displayName": "likarajo",
      "photoUrl": "https://lh3.googleusercontent.com/-Db9hrounrqg/AAAAAAAAAAI/AAAAAAAAkUw/GvMp5z1vaY4/s64/photo.jpg",
      "userId": "12408627446919859441"
     },
     "user_tz": 360
    },
    "id": "xyAHyQM-k1iQ",
    "outputId": "c6af152b-410a-458d-f797-ce06146da084"
   },
   "outputs": [],
   "source": [
    "#Classification Report\n",
    "plot_model(rf_tuned, 'class_report')"
   ]
  },
  {
   "cell_type": "code",
   "execution_count": null,
   "metadata": {
    "colab": {
     "base_uri": "https://localhost:8080/",
     "height": 478,
     "referenced_widgets": [
      "622d8f421da040919631e80a71fdc083",
      "0f1922fd31a64c3c9b1cbb81d60b2e89",
      "919af9daa546475ca551b1c1f99a5dc2"
     ]
    },
    "executionInfo": {
     "elapsed": 1022,
     "status": "ok",
     "timestamp": 1611243195221,
     "user": {
      "displayName": "likarajo",
      "photoUrl": "https://lh3.googleusercontent.com/-Db9hrounrqg/AAAAAAAAAAI/AAAAAAAAkUw/GvMp5z1vaY4/s64/photo.jpg",
      "userId": "12408627446919859441"
     },
     "user_tz": 360
    },
    "id": "SVIqU7u1k7Db",
    "outputId": "bf1bfc46-5548-43eb-b4ce-b4d74721fd36"
   },
   "outputs": [],
   "source": [
    "#Feature importance\n",
    "plot_model(rf_tuned, 'feature')"
   ]
  },
  {
   "cell_type": "code",
   "execution_count": null,
   "metadata": {
    "colab": {
     "base_uri": "https://localhost:8080/"
    },
    "executionInfo": {
     "elapsed": 1139,
     "status": "ok",
     "timestamp": 1611244217878,
     "user": {
      "displayName": "likarajo",
      "photoUrl": "https://lh3.googleusercontent.com/-Db9hrounrqg/AAAAAAAAAAI/AAAAAAAAkUw/GvMp5z1vaY4/s64/photo.jpg",
      "userId": "12408627446919859441"
     },
     "user_tz": 360
    },
    "id": "WbN8BuoNl7eB",
    "outputId": "6c1dff6c-cf4a-40e7-b054-b1e361f28322"
   },
   "outputs": [],
   "source": [
    "#save the model\n",
    "from google.colab import drive\n",
    "drive.mount('/gdrive', force_remount=True)\n",
    "\n",
    "model_save_name = 'covid-19_predictor'\n",
    "path = F\"/gdrive/MyDrive/Colab_Notebooks/COVID-19_Prediction/{model_save_name}\"\n",
    "\n",
    "save_model(rf_tuned, path)"
   ]
  },
  {
   "cell_type": "code",
   "execution_count": null,
   "metadata": {
    "colab": {
     "base_uri": "https://localhost:8080/",
     "height": 439
    },
    "executionInfo": {
     "elapsed": 1050,
     "status": "ok",
     "timestamp": 1611244679400,
     "user": {
      "displayName": "likarajo",
      "photoUrl": "https://lh3.googleusercontent.com/-Db9hrounrqg/AAAAAAAAAAI/AAAAAAAAkUw/GvMp5z1vaY4/s64/photo.jpg",
      "userId": "12408627446919859441"
     },
     "user_tz": 360
    },
    "id": "r-XhcsaAmWvp",
    "outputId": "231952e6-c06c-420e-baf1-f0a13c578a78"
   },
   "outputs": [],
   "source": [
    "#Make predictions\n",
    "covid = pd.read_csv('input_covid.csv')\n",
    "covid"
   ]
  },
  {
   "cell_type": "code",
   "execution_count": null,
   "metadata": {
    "colab": {
     "base_uri": "https://localhost:8080/",
     "height": 439
    },
    "executionInfo": {
     "elapsed": 1015,
     "status": "ok",
     "timestamp": 1611244938486,
     "user": {
      "displayName": "likarajo",
      "photoUrl": "https://lh3.googleusercontent.com/-Db9hrounrqg/AAAAAAAAAAI/AAAAAAAAkUw/GvMp5z1vaY4/s64/photo.jpg",
      "userId": "12408627446919859441"
     },
     "user_tz": 360
    },
    "id": "Wcvo5yyiri0U",
    "outputId": "b627cbe5-e4ea-4a50-e323-10d5ee5f39d0"
   },
   "outputs": [],
   "source": [
    "#Preprocess the data (similar to training data)\n",
    "covid['protein_seq_length'] = covid.apply(lambda x: len(x.protein_seq), axis=1)\n",
    "covid['peptide_length'] = covid.apply(lambda x: len(x.peptide_seq), axis=1)\n",
    "covid['peptide_region'] = covid.apply(lambda x: x.peptide_length/x.protein_seq_length, axis=1)\n",
    "\n",
    "covid = covid.drop(columns=['parent_protein_id','protein_seq','peptide_seq','start_position','end_position'])\n",
    "\n",
    "covid"
   ]
  },
  {
   "cell_type": "code",
   "execution_count": null,
   "metadata": {
    "colab": {
     "base_uri": "https://localhost:8080/"
    },
    "executionInfo": {
     "elapsed": 904,
     "status": "ok",
     "timestamp": 1611244796713,
     "user": {
      "displayName": "likarajo",
      "photoUrl": "https://lh3.googleusercontent.com/-Db9hrounrqg/AAAAAAAAAAI/AAAAAAAAkUw/GvMp5z1vaY4/s64/photo.jpg",
      "userId": "12408627446919859441"
     },
     "user_tz": 360
    },
    "id": "MBhP8Hsep4bP",
    "outputId": "f0c8305c-c514-44cf-caed-c11cd49e39eb"
   },
   "outputs": [],
   "source": [
    "#Load the model\n",
    "drive.mount('/gdrive', force_remount=True)\n",
    "\n",
    "model_save_name = 'covid-19_predictor'\n",
    "path = F\"/gdrive/MyDrive/Colab_Notebooks/COVID-19_Prediction/{model_save_name}\"\n",
    "\n",
    "model = load_model(path)"
   ]
  },
  {
   "cell_type": "code",
   "execution_count": null,
   "metadata": {
    "colab": {
     "base_uri": "https://localhost:8080/",
     "height": 439
    },
    "executionInfo": {
     "elapsed": 1052,
     "status": "ok",
     "timestamp": 1611244956142,
     "user": {
      "displayName": "likarajo",
      "photoUrl": "https://lh3.googleusercontent.com/-Db9hrounrqg/AAAAAAAAAAI/AAAAAAAAkUw/GvMp5z1vaY4/s64/photo.jpg",
      "userId": "12408627446919859441"
     },
     "user_tz": 360
    },
    "id": "WDykvpFfq6WY",
    "outputId": "cd4c8178-af6a-46b2-ad0a-7496b3d45ec0"
   },
   "outputs": [],
   "source": [
    "#Predict using the model\n",
    "pred_covid = predict_model(model, covid)\n",
    "\n",
    "pred_covid"
   ]
  }
 ],
 "metadata": {
  "accelerator": "GPU",
  "colab": {
   "authorship_tag": "ABX9TyMsSzSmztKivbRJgoWjiZ0y",
   "collapsed_sections": [],
   "name": "COVID_prediction.ipynb",
   "provenance": []
  },
  "kernelspec": {
   "display_name": "Python 3 (ipykernel)",
   "language": "python",
   "name": "python3"
  },
  "language_info": {
   "codemirror_mode": {
    "name": "ipython",
    "version": 3
   },
   "file_extension": ".py",
   "mimetype": "text/x-python",
   "name": "python",
   "nbconvert_exporter": "python",
   "pygments_lexer": "ipython3",
   "version": "3.9.12"
  },
  "widgets": {
   "application/vnd.jupyter.widget-state+json": {
    "0387432d0255444b827075b66775626c": {
     "model_module": "@jupyter-widgets/controls",
     "model_name": "ProgressStyleModel",
     "state": {
      "_model_module": "@jupyter-widgets/controls",
      "_model_module_version": "1.5.0",
      "_model_name": "ProgressStyleModel",
      "_view_count": null,
      "_view_module": "@jupyter-widgets/base",
      "_view_module_version": "1.2.0",
      "_view_name": "StyleView",
      "bar_color": null,
      "description_width": ""
     }
    },
    "0f1922fd31a64c3c9b1cbb81d60b2e89": {
     "model_module": "@jupyter-widgets/controls",
     "model_name": "ProgressStyleModel",
     "state": {
      "_model_module": "@jupyter-widgets/controls",
      "_model_module_version": "1.5.0",
      "_model_name": "ProgressStyleModel",
      "_view_count": null,
      "_view_module": "@jupyter-widgets/base",
      "_view_module_version": "1.2.0",
      "_view_name": "StyleView",
      "bar_color": null,
      "description_width": ""
     }
    },
    "110488d413774d118e277866d63ff233": {
     "model_module": "@jupyter-widgets/base",
     "model_name": "LayoutModel",
     "state": {
      "_model_module": "@jupyter-widgets/base",
      "_model_module_version": "1.2.0",
      "_model_name": "LayoutModel",
      "_view_count": null,
      "_view_module": "@jupyter-widgets/base",
      "_view_module_version": "1.2.0",
      "_view_name": "LayoutView",
      "align_content": null,
      "align_items": null,
      "align_self": null,
      "border": null,
      "bottom": null,
      "display": null,
      "flex": null,
      "flex_flow": null,
      "grid_area": null,
      "grid_auto_columns": null,
      "grid_auto_flow": null,
      "grid_auto_rows": null,
      "grid_column": null,
      "grid_gap": null,
      "grid_row": null,
      "grid_template_areas": null,
      "grid_template_columns": null,
      "grid_template_rows": null,
      "height": null,
      "justify_content": null,
      "justify_items": null,
      "left": null,
      "margin": null,
      "max_height": null,
      "max_width": null,
      "min_height": null,
      "min_width": null,
      "object_fit": null,
      "object_position": null,
      "order": null,
      "overflow": null,
      "overflow_x": null,
      "overflow_y": null,
      "padding": null,
      "right": null,
      "top": null,
      "visibility": null,
      "width": null
     }
    },
    "16828ff07ef34b389f45e1aabae06ffd": {
     "model_module": "@jupyter-widgets/controls",
     "model_name": "IntProgressModel",
     "state": {
      "_dom_classes": [],
      "_model_module": "@jupyter-widgets/controls",
      "_model_module_version": "1.5.0",
      "_model_name": "IntProgressModel",
      "_view_count": null,
      "_view_module": "@jupyter-widgets/controls",
      "_view_module_version": "1.5.0",
      "_view_name": "ProgressView",
      "bar_style": "",
      "description": "Processing: ",
      "description_tooltip": null,
      "layout": "IPY_MODEL_9087c1f908f646178ebf0fcf1d33002e",
      "max": 5,
      "min": 0,
      "orientation": "horizontal",
      "style": "IPY_MODEL_87278e3304584f389609ee8462fa379f",
      "value": 5
     }
    },
    "191f2c966aba4f60b8a4807fd80eb076": {
     "model_module": "@jupyter-widgets/controls",
     "model_name": "ProgressStyleModel",
     "state": {
      "_model_module": "@jupyter-widgets/controls",
      "_model_module_version": "1.5.0",
      "_model_name": "ProgressStyleModel",
      "_view_count": null,
      "_view_module": "@jupyter-widgets/base",
      "_view_module_version": "1.2.0",
      "_view_name": "StyleView",
      "bar_color": null,
      "description_width": ""
     }
    },
    "1a8c2c4e496641328682c7a2c22c2aad": {
     "model_module": "@jupyter-widgets/base",
     "model_name": "LayoutModel",
     "state": {
      "_model_module": "@jupyter-widgets/base",
      "_model_module_version": "1.2.0",
      "_model_name": "LayoutModel",
      "_view_count": null,
      "_view_module": "@jupyter-widgets/base",
      "_view_module_version": "1.2.0",
      "_view_name": "LayoutView",
      "align_content": null,
      "align_items": null,
      "align_self": null,
      "border": null,
      "bottom": null,
      "display": null,
      "flex": null,
      "flex_flow": null,
      "grid_area": null,
      "grid_auto_columns": null,
      "grid_auto_flow": null,
      "grid_auto_rows": null,
      "grid_column": null,
      "grid_gap": null,
      "grid_row": null,
      "grid_template_areas": null,
      "grid_template_columns": null,
      "grid_template_rows": null,
      "height": null,
      "justify_content": null,
      "justify_items": null,
      "left": null,
      "margin": null,
      "max_height": null,
      "max_width": null,
      "min_height": null,
      "min_width": null,
      "object_fit": null,
      "object_position": null,
      "order": null,
      "overflow": null,
      "overflow_x": null,
      "overflow_y": null,
      "padding": null,
      "right": null,
      "top": null,
      "visibility": null,
      "width": null
     }
    },
    "1aaf6b876dca40d5b908891bffadce07": {
     "model_module": "@jupyter-widgets/controls",
     "model_name": "DescriptionStyleModel",
     "state": {
      "_model_module": "@jupyter-widgets/controls",
      "_model_module_version": "1.5.0",
      "_model_name": "DescriptionStyleModel",
      "_view_count": null,
      "_view_module": "@jupyter-widgets/base",
      "_view_module_version": "1.2.0",
      "_view_name": "StyleView",
      "description_width": ""
     }
    },
    "1b13a98738ae4322a268891f001f901d": {
     "model_module": "@jupyter-widgets/base",
     "model_name": "LayoutModel",
     "state": {
      "_model_module": "@jupyter-widgets/base",
      "_model_module_version": "1.2.0",
      "_model_name": "LayoutModel",
      "_view_count": null,
      "_view_module": "@jupyter-widgets/base",
      "_view_module_version": "1.2.0",
      "_view_name": "LayoutView",
      "align_content": null,
      "align_items": null,
      "align_self": null,
      "border": null,
      "bottom": null,
      "display": null,
      "flex": null,
      "flex_flow": null,
      "grid_area": null,
      "grid_auto_columns": null,
      "grid_auto_flow": null,
      "grid_auto_rows": null,
      "grid_column": null,
      "grid_gap": null,
      "grid_row": null,
      "grid_template_areas": null,
      "grid_template_columns": null,
      "grid_template_rows": null,
      "height": null,
      "justify_content": null,
      "justify_items": null,
      "left": null,
      "margin": null,
      "max_height": null,
      "max_width": null,
      "min_height": null,
      "min_width": null,
      "object_fit": null,
      "object_position": null,
      "order": null,
      "overflow": null,
      "overflow_x": null,
      "overflow_y": null,
      "padding": null,
      "right": null,
      "top": null,
      "visibility": null,
      "width": null
     }
    },
    "1be821f95d86437bb22fd35ffc48ef82": {
     "model_module": "@jupyter-widgets/controls",
     "model_name": "IntProgressModel",
     "state": {
      "_dom_classes": [],
      "_model_module": "@jupyter-widgets/controls",
      "_model_module_version": "1.5.0",
      "_model_name": "IntProgressModel",
      "_view_count": null,
      "_view_module": "@jupyter-widgets/controls",
      "_view_module_version": "1.5.0",
      "_view_name": "ProgressView",
      "bar_style": "",
      "description": "Processing: ",
      "description_tooltip": null,
      "layout": "IPY_MODEL_bf9565c7b1b24c92b83b0e03b36e892e",
      "max": 6,
      "min": 0,
      "orientation": "horizontal",
      "style": "IPY_MODEL_b5a8404c2a344e6595a4f1d3c70a1d2c",
      "value": 6
     }
    },
    "1d67e0a3af9f424395eb058a914e02ef": {
     "model_module": "@jupyter-widgets/controls",
     "model_name": "IntProgressModel",
     "state": {
      "_dom_classes": [],
      "_model_module": "@jupyter-widgets/controls",
      "_model_module_version": "1.5.0",
      "_model_name": "IntProgressModel",
      "_view_count": null,
      "_view_module": "@jupyter-widgets/controls",
      "_view_module_version": "1.5.0",
      "_view_name": "ProgressView",
      "bar_style": "",
      "description": "Processing: ",
      "description_tooltip": null,
      "layout": "IPY_MODEL_d24bda5bf91249129b5e9e7a3b5bb3b2",
      "max": 4,
      "min": 0,
      "orientation": "horizontal",
      "style": "IPY_MODEL_fc93e8eea4ba4b55854b77f54a78e114",
      "value": 4
     }
    },
    "280bb6c750b449c48bf252c84eeee320": {
     "model_module": "@jupyter-widgets/controls",
     "model_name": "IntProgressModel",
     "state": {
      "_dom_classes": [],
      "_model_module": "@jupyter-widgets/controls",
      "_model_module_version": "1.5.0",
      "_model_name": "IntProgressModel",
      "_view_count": null,
      "_view_module": "@jupyter-widgets/controls",
      "_view_module_version": "1.5.0",
      "_view_name": "ProgressView",
      "bar_style": "",
      "description": "Processing: ",
      "description_tooltip": null,
      "layout": "IPY_MODEL_673da3bced0f4b9bb2332ba5645c9070",
      "max": 4,
      "min": 0,
      "orientation": "horizontal",
      "style": "IPY_MODEL_adf77bce5c2a4dbd886a252a0d67503b",
      "value": 4
     }
    },
    "2be22f2cee4740a8833c9664ad23e4d0": {
     "model_module": "@jupyter-widgets/base",
     "model_name": "LayoutModel",
     "state": {
      "_model_module": "@jupyter-widgets/base",
      "_model_module_version": "1.2.0",
      "_model_name": "LayoutModel",
      "_view_count": null,
      "_view_module": "@jupyter-widgets/base",
      "_view_module_version": "1.2.0",
      "_view_name": "LayoutView",
      "align_content": null,
      "align_items": null,
      "align_self": null,
      "border": null,
      "bottom": null,
      "display": null,
      "flex": null,
      "flex_flow": null,
      "grid_area": null,
      "grid_auto_columns": null,
      "grid_auto_flow": null,
      "grid_auto_rows": null,
      "grid_column": null,
      "grid_gap": null,
      "grid_row": null,
      "grid_template_areas": null,
      "grid_template_columns": null,
      "grid_template_rows": null,
      "height": null,
      "justify_content": null,
      "justify_items": null,
      "left": null,
      "margin": null,
      "max_height": null,
      "max_width": null,
      "min_height": null,
      "min_width": null,
      "object_fit": null,
      "object_position": null,
      "order": null,
      "overflow": null,
      "overflow_x": null,
      "overflow_y": null,
      "padding": null,
      "right": null,
      "top": null,
      "visibility": null,
      "width": null
     }
    },
    "2be6002b812f453aac75b4a059af40e7": {
     "model_module": "@jupyter-widgets/base",
     "model_name": "LayoutModel",
     "state": {
      "_model_module": "@jupyter-widgets/base",
      "_model_module_version": "1.2.0",
      "_model_name": "LayoutModel",
      "_view_count": null,
      "_view_module": "@jupyter-widgets/base",
      "_view_module_version": "1.2.0",
      "_view_name": "LayoutView",
      "align_content": null,
      "align_items": null,
      "align_self": null,
      "border": null,
      "bottom": null,
      "display": null,
      "flex": null,
      "flex_flow": null,
      "grid_area": null,
      "grid_auto_columns": null,
      "grid_auto_flow": null,
      "grid_auto_rows": null,
      "grid_column": null,
      "grid_gap": null,
      "grid_row": null,
      "grid_template_areas": null,
      "grid_template_columns": null,
      "grid_template_rows": null,
      "height": null,
      "justify_content": null,
      "justify_items": null,
      "left": null,
      "margin": null,
      "max_height": null,
      "max_width": null,
      "min_height": null,
      "min_width": null,
      "object_fit": null,
      "object_position": null,
      "order": null,
      "overflow": null,
      "overflow_x": null,
      "overflow_y": null,
      "padding": null,
      "right": null,
      "top": null,
      "visibility": null,
      "width": null
     }
    },
    "2c8748d02b5547e582e1b36012eb2400": {
     "model_module": "@jupyter-widgets/controls",
     "model_name": "ProgressStyleModel",
     "state": {
      "_model_module": "@jupyter-widgets/controls",
      "_model_module_version": "1.5.0",
      "_model_name": "ProgressStyleModel",
      "_view_count": null,
      "_view_module": "@jupyter-widgets/base",
      "_view_module_version": "1.2.0",
      "_view_name": "StyleView",
      "bar_color": null,
      "description_width": ""
     }
    },
    "2d34cfefa84c4d948f926511f03e6ed4": {
     "model_module": "@jupyter-widgets/controls",
     "model_name": "IntProgressModel",
     "state": {
      "_dom_classes": [],
      "_model_module": "@jupyter-widgets/controls",
      "_model_module_version": "1.5.0",
      "_model_name": "IntProgressModel",
      "_view_count": null,
      "_view_module": "@jupyter-widgets/controls",
      "_view_module_version": "1.5.0",
      "_view_name": "ProgressView",
      "bar_style": "",
      "description": "Processing: ",
      "description_tooltip": null,
      "layout": "IPY_MODEL_fd2455ee141945db841009fe6a4cce95",
      "max": 6,
      "min": 0,
      "orientation": "horizontal",
      "style": "IPY_MODEL_f3029dfa5b53474b9997843ed096bbe0",
      "value": 6
     }
    },
    "2d9d216b258448238dd3857305813344": {
     "model_module": "@jupyter-widgets/controls",
     "model_name": "ProgressStyleModel",
     "state": {
      "_model_module": "@jupyter-widgets/controls",
      "_model_module_version": "1.5.0",
      "_model_name": "ProgressStyleModel",
      "_view_count": null,
      "_view_module": "@jupyter-widgets/base",
      "_view_module_version": "1.2.0",
      "_view_name": "StyleView",
      "bar_color": null,
      "description_width": ""
     }
    },
    "387ba5b0b6644a788f8a2f6b7d3a6cfb": {
     "model_module": "@jupyter-widgets/controls",
     "model_name": "IntProgressModel",
     "state": {
      "_dom_classes": [],
      "_model_module": "@jupyter-widgets/controls",
      "_model_module_version": "1.5.0",
      "_model_name": "IntProgressModel",
      "_view_count": null,
      "_view_module": "@jupyter-widgets/controls",
      "_view_module_version": "1.5.0",
      "_view_name": "ProgressView",
      "bar_style": "",
      "description": "Processing: ",
      "description_tooltip": null,
      "layout": "IPY_MODEL_1b13a98738ae4322a268891f001f901d",
      "max": 7,
      "min": 0,
      "orientation": "horizontal",
      "style": "IPY_MODEL_ba1562c930b8409599591d07f8ca450a",
      "value": 7
     }
    },
    "49a010fcec2740b5b8c25eda7a91f8a8": {
     "model_module": "@jupyter-widgets/controls",
     "model_name": "IntProgressModel",
     "state": {
      "_dom_classes": [],
      "_model_module": "@jupyter-widgets/controls",
      "_model_module_version": "1.5.0",
      "_model_name": "IntProgressModel",
      "_view_count": null,
      "_view_module": "@jupyter-widgets/controls",
      "_view_module_version": "1.5.0",
      "_view_name": "ProgressView",
      "bar_style": "",
      "description": "Processing: ",
      "description_tooltip": null,
      "layout": "IPY_MODEL_4a77d9b6cf494c7a84e87d0cf08cd15c",
      "max": 4,
      "min": 0,
      "orientation": "horizontal",
      "style": "IPY_MODEL_75edc2faa9cf47b78e10d78678e54a5d",
      "value": 4
     }
    },
    "4a77d9b6cf494c7a84e87d0cf08cd15c": {
     "model_module": "@jupyter-widgets/base",
     "model_name": "LayoutModel",
     "state": {
      "_model_module": "@jupyter-widgets/base",
      "_model_module_version": "1.2.0",
      "_model_name": "LayoutModel",
      "_view_count": null,
      "_view_module": "@jupyter-widgets/base",
      "_view_module_version": "1.2.0",
      "_view_name": "LayoutView",
      "align_content": null,
      "align_items": null,
      "align_self": null,
      "border": null,
      "bottom": null,
      "display": null,
      "flex": null,
      "flex_flow": null,
      "grid_area": null,
      "grid_auto_columns": null,
      "grid_auto_flow": null,
      "grid_auto_rows": null,
      "grid_column": null,
      "grid_gap": null,
      "grid_row": null,
      "grid_template_areas": null,
      "grid_template_columns": null,
      "grid_template_rows": null,
      "height": null,
      "justify_content": null,
      "justify_items": null,
      "left": null,
      "margin": null,
      "max_height": null,
      "max_width": null,
      "min_height": null,
      "min_width": null,
      "object_fit": null,
      "object_position": null,
      "order": null,
      "overflow": null,
      "overflow_x": null,
      "overflow_y": null,
      "padding": null,
      "right": null,
      "top": null,
      "visibility": null,
      "width": null
     }
    },
    "4adce07689ea4f8890a0e1851451e3c3": {
     "model_module": "@jupyter-widgets/controls",
     "model_name": "IntProgressModel",
     "state": {
      "_dom_classes": [],
      "_model_module": "@jupyter-widgets/controls",
      "_model_module_version": "1.5.0",
      "_model_name": "IntProgressModel",
      "_view_count": null,
      "_view_module": "@jupyter-widgets/controls",
      "_view_module_version": "1.5.0",
      "_view_name": "ProgressView",
      "bar_style": "",
      "description": "Processing: ",
      "description_tooltip": null,
      "layout": "IPY_MODEL_2be22f2cee4740a8833c9664ad23e4d0",
      "max": 3,
      "min": 0,
      "orientation": "horizontal",
      "style": "IPY_MODEL_63cade4945ab4667826a2c9456f5a997",
      "value": 3
     }
    },
    "4c83e5b447b844c4a7edece81c8a9c2e": {
     "model_module": "@jupyter-widgets/base",
     "model_name": "LayoutModel",
     "state": {
      "_model_module": "@jupyter-widgets/base",
      "_model_module_version": "1.2.0",
      "_model_name": "LayoutModel",
      "_view_count": null,
      "_view_module": "@jupyter-widgets/base",
      "_view_module_version": "1.2.0",
      "_view_name": "LayoutView",
      "align_content": null,
      "align_items": null,
      "align_self": null,
      "border": null,
      "bottom": null,
      "display": null,
      "flex": null,
      "flex_flow": null,
      "grid_area": null,
      "grid_auto_columns": null,
      "grid_auto_flow": null,
      "grid_auto_rows": null,
      "grid_column": null,
      "grid_gap": null,
      "grid_row": null,
      "grid_template_areas": null,
      "grid_template_columns": null,
      "grid_template_rows": null,
      "height": null,
      "justify_content": null,
      "justify_items": null,
      "left": null,
      "margin": null,
      "max_height": null,
      "max_width": null,
      "min_height": null,
      "min_width": null,
      "object_fit": null,
      "object_position": null,
      "order": null,
      "overflow": null,
      "overflow_x": null,
      "overflow_y": null,
      "padding": null,
      "right": null,
      "top": null,
      "visibility": null,
      "width": null
     }
    },
    "510b4d1f746e42ddbbbe41a37b3cfade": {
     "model_module": "@jupyter-widgets/controls",
     "model_name": "IntProgressModel",
     "state": {
      "_dom_classes": [],
      "_model_module": "@jupyter-widgets/controls",
      "_model_module_version": "1.5.0",
      "_model_name": "IntProgressModel",
      "_view_count": null,
      "_view_module": "@jupyter-widgets/controls",
      "_view_module_version": "1.5.0",
      "_view_name": "ProgressView",
      "bar_style": "",
      "description": "Processing: ",
      "description_tooltip": null,
      "layout": "IPY_MODEL_a15185b88e3d4883b54e645cd5025e48",
      "max": 5,
      "min": 0,
      "orientation": "horizontal",
      "style": "IPY_MODEL_5b921e0dc1664464bf011683a3d2cc34",
      "value": 5
     }
    },
    "51de94c6e9ec441f9f89f6bedad5784e": {
     "model_module": "@jupyter-widgets/base",
     "model_name": "LayoutModel",
     "state": {
      "_model_module": "@jupyter-widgets/base",
      "_model_module_version": "1.2.0",
      "_model_name": "LayoutModel",
      "_view_count": null,
      "_view_module": "@jupyter-widgets/base",
      "_view_module_version": "1.2.0",
      "_view_name": "LayoutView",
      "align_content": null,
      "align_items": null,
      "align_self": null,
      "border": null,
      "bottom": null,
      "display": null,
      "flex": null,
      "flex_flow": null,
      "grid_area": null,
      "grid_auto_columns": null,
      "grid_auto_flow": null,
      "grid_auto_rows": null,
      "grid_column": null,
      "grid_gap": null,
      "grid_row": null,
      "grid_template_areas": null,
      "grid_template_columns": null,
      "grid_template_rows": null,
      "height": null,
      "justify_content": null,
      "justify_items": null,
      "left": null,
      "margin": null,
      "max_height": null,
      "max_width": null,
      "min_height": null,
      "min_width": null,
      "object_fit": null,
      "object_position": null,
      "order": null,
      "overflow": null,
      "overflow_x": null,
      "overflow_y": null,
      "padding": null,
      "right": null,
      "top": null,
      "visibility": null,
      "width": null
     }
    },
    "578f735abd1b4b9da0c316807d0d8b84": {
     "model_module": "@jupyter-widgets/base",
     "model_name": "LayoutModel",
     "state": {
      "_model_module": "@jupyter-widgets/base",
      "_model_module_version": "1.2.0",
      "_model_name": "LayoutModel",
      "_view_count": null,
      "_view_module": "@jupyter-widgets/base",
      "_view_module_version": "1.2.0",
      "_view_name": "LayoutView",
      "align_content": null,
      "align_items": null,
      "align_self": null,
      "border": null,
      "bottom": null,
      "display": null,
      "flex": null,
      "flex_flow": null,
      "grid_area": null,
      "grid_auto_columns": null,
      "grid_auto_flow": null,
      "grid_auto_rows": null,
      "grid_column": null,
      "grid_gap": null,
      "grid_row": null,
      "grid_template_areas": null,
      "grid_template_columns": null,
      "grid_template_rows": null,
      "height": null,
      "justify_content": null,
      "justify_items": null,
      "left": null,
      "margin": null,
      "max_height": null,
      "max_width": null,
      "min_height": null,
      "min_width": null,
      "object_fit": null,
      "object_position": null,
      "order": null,
      "overflow": null,
      "overflow_x": null,
      "overflow_y": null,
      "padding": null,
      "right": null,
      "top": null,
      "visibility": null,
      "width": null
     }
    },
    "5b921e0dc1664464bf011683a3d2cc34": {
     "model_module": "@jupyter-widgets/controls",
     "model_name": "ProgressStyleModel",
     "state": {
      "_model_module": "@jupyter-widgets/controls",
      "_model_module_version": "1.5.0",
      "_model_name": "ProgressStyleModel",
      "_view_count": null,
      "_view_module": "@jupyter-widgets/base",
      "_view_module_version": "1.2.0",
      "_view_name": "StyleView",
      "bar_color": null,
      "description_width": ""
     }
    },
    "5bfb39a8c5fb4b09a78df80b1f836f6a": {
     "model_module": "@jupyter-widgets/controls",
     "model_name": "IntProgressModel",
     "state": {
      "_dom_classes": [],
      "_model_module": "@jupyter-widgets/controls",
      "_model_module_version": "1.5.0",
      "_model_name": "IntProgressModel",
      "_view_count": null,
      "_view_module": "@jupyter-widgets/controls",
      "_view_module_version": "1.5.0",
      "_view_name": "ProgressView",
      "bar_style": "",
      "description": "Processing: ",
      "description_tooltip": null,
      "layout": "IPY_MODEL_b5a46dff2fa14f0b9ccd0ce897ca6833",
      "max": 7,
      "min": 0,
      "orientation": "horizontal",
      "style": "IPY_MODEL_fc1b219a79e34204aeddd72c5364e3c8",
      "value": 7
     }
    },
    "5cff74918e79401583ec84f4088e8f86": {
     "model_module": "@jupyter-widgets/base",
     "model_name": "LayoutModel",
     "state": {
      "_model_module": "@jupyter-widgets/base",
      "_model_module_version": "1.2.0",
      "_model_name": "LayoutModel",
      "_view_count": null,
      "_view_module": "@jupyter-widgets/base",
      "_view_module_version": "1.2.0",
      "_view_name": "LayoutView",
      "align_content": null,
      "align_items": null,
      "align_self": null,
      "border": null,
      "bottom": null,
      "display": null,
      "flex": null,
      "flex_flow": null,
      "grid_area": null,
      "grid_auto_columns": null,
      "grid_auto_flow": null,
      "grid_auto_rows": null,
      "grid_column": null,
      "grid_gap": null,
      "grid_row": null,
      "grid_template_areas": null,
      "grid_template_columns": null,
      "grid_template_rows": null,
      "height": null,
      "justify_content": null,
      "justify_items": null,
      "left": null,
      "margin": null,
      "max_height": null,
      "max_width": null,
      "min_height": null,
      "min_width": null,
      "object_fit": null,
      "object_position": null,
      "order": null,
      "overflow": null,
      "overflow_x": null,
      "overflow_y": null,
      "padding": null,
      "right": null,
      "top": null,
      "visibility": null,
      "width": null
     }
    },
    "5e173b5b8fed4d3b9d567d37492bca4d": {
     "model_module": "@jupyter-widgets/controls",
     "model_name": "IntProgressModel",
     "state": {
      "_dom_classes": [],
      "_model_module": "@jupyter-widgets/controls",
      "_model_module_version": "1.5.0",
      "_model_name": "IntProgressModel",
      "_view_count": null,
      "_view_module": "@jupyter-widgets/controls",
      "_view_module_version": "1.5.0",
      "_view_name": "ProgressView",
      "bar_style": "",
      "description": "Processing: ",
      "description_tooltip": null,
      "layout": "IPY_MODEL_f710a5d30d2448239c8c78a7d842a747",
      "max": 4,
      "min": 0,
      "orientation": "horizontal",
      "style": "IPY_MODEL_d84d8d6b07244d3893f2e4a3ca08db6a",
      "value": 4
     }
    },
    "622d8f421da040919631e80a71fdc083": {
     "model_module": "@jupyter-widgets/controls",
     "model_name": "IntProgressModel",
     "state": {
      "_dom_classes": [],
      "_model_module": "@jupyter-widgets/controls",
      "_model_module_version": "1.5.0",
      "_model_name": "IntProgressModel",
      "_view_count": null,
      "_view_module": "@jupyter-widgets/controls",
      "_view_module_version": "1.5.0",
      "_view_name": "ProgressView",
      "bar_style": "",
      "description": "Processing: ",
      "description_tooltip": null,
      "layout": "IPY_MODEL_919af9daa546475ca551b1c1f99a5dc2",
      "max": 5,
      "min": 0,
      "orientation": "horizontal",
      "style": "IPY_MODEL_0f1922fd31a64c3c9b1cbb81d60b2e89",
      "value": 5
     }
    },
    "63b80e3da75c41dfa0bab39df752d57e": {
     "model_module": "@jupyter-widgets/controls",
     "model_name": "ProgressStyleModel",
     "state": {
      "_model_module": "@jupyter-widgets/controls",
      "_model_module_version": "1.5.0",
      "_model_name": "ProgressStyleModel",
      "_view_count": null,
      "_view_module": "@jupyter-widgets/base",
      "_view_module_version": "1.2.0",
      "_view_name": "StyleView",
      "bar_color": null,
      "description_width": ""
     }
    },
    "63cade4945ab4667826a2c9456f5a997": {
     "model_module": "@jupyter-widgets/controls",
     "model_name": "ProgressStyleModel",
     "state": {
      "_model_module": "@jupyter-widgets/controls",
      "_model_module_version": "1.5.0",
      "_model_name": "ProgressStyleModel",
      "_view_count": null,
      "_view_module": "@jupyter-widgets/base",
      "_view_module_version": "1.2.0",
      "_view_name": "StyleView",
      "bar_color": null,
      "description_width": ""
     }
    },
    "673da3bced0f4b9bb2332ba5645c9070": {
     "model_module": "@jupyter-widgets/base",
     "model_name": "LayoutModel",
     "state": {
      "_model_module": "@jupyter-widgets/base",
      "_model_module_version": "1.2.0",
      "_model_name": "LayoutModel",
      "_view_count": null,
      "_view_module": "@jupyter-widgets/base",
      "_view_module_version": "1.2.0",
      "_view_name": "LayoutView",
      "align_content": null,
      "align_items": null,
      "align_self": null,
      "border": null,
      "bottom": null,
      "display": null,
      "flex": null,
      "flex_flow": null,
      "grid_area": null,
      "grid_auto_columns": null,
      "grid_auto_flow": null,
      "grid_auto_rows": null,
      "grid_column": null,
      "grid_gap": null,
      "grid_row": null,
      "grid_template_areas": null,
      "grid_template_columns": null,
      "grid_template_rows": null,
      "height": null,
      "justify_content": null,
      "justify_items": null,
      "left": null,
      "margin": null,
      "max_height": null,
      "max_width": null,
      "min_height": null,
      "min_width": null,
      "object_fit": null,
      "object_position": null,
      "order": null,
      "overflow": null,
      "overflow_x": null,
      "overflow_y": null,
      "padding": null,
      "right": null,
      "top": null,
      "visibility": null,
      "width": null
     }
    },
    "6831966f88574887b61d1d5c008bc05d": {
     "model_module": "@jupyter-widgets/base",
     "model_name": "LayoutModel",
     "state": {
      "_model_module": "@jupyter-widgets/base",
      "_model_module_version": "1.2.0",
      "_model_name": "LayoutModel",
      "_view_count": null,
      "_view_module": "@jupyter-widgets/base",
      "_view_module_version": "1.2.0",
      "_view_name": "LayoutView",
      "align_content": null,
      "align_items": null,
      "align_self": null,
      "border": null,
      "bottom": null,
      "display": null,
      "flex": null,
      "flex_flow": null,
      "grid_area": null,
      "grid_auto_columns": null,
      "grid_auto_flow": null,
      "grid_auto_rows": null,
      "grid_column": null,
      "grid_gap": null,
      "grid_row": null,
      "grid_template_areas": null,
      "grid_template_columns": null,
      "grid_template_rows": null,
      "height": null,
      "justify_content": null,
      "justify_items": null,
      "left": null,
      "margin": null,
      "max_height": null,
      "max_width": null,
      "min_height": null,
      "min_width": null,
      "object_fit": null,
      "object_position": null,
      "order": null,
      "overflow": null,
      "overflow_x": null,
      "overflow_y": null,
      "padding": null,
      "right": null,
      "top": null,
      "visibility": null,
      "width": null
     }
    },
    "6b09b0c4ea144e779f2add24bc16bee2": {
     "model_module": "@jupyter-widgets/controls",
     "model_name": "ProgressStyleModel",
     "state": {
      "_model_module": "@jupyter-widgets/controls",
      "_model_module_version": "1.5.0",
      "_model_name": "ProgressStyleModel",
      "_view_count": null,
      "_view_module": "@jupyter-widgets/base",
      "_view_module_version": "1.2.0",
      "_view_name": "StyleView",
      "bar_color": null,
      "description_width": ""
     }
    },
    "6bcee83cf3354074b890bde5d41c35f8": {
     "model_module": "@jupyter-widgets/controls",
     "model_name": "IntProgressModel",
     "state": {
      "_dom_classes": [],
      "_model_module": "@jupyter-widgets/controls",
      "_model_module_version": "1.5.0",
      "_model_name": "IntProgressModel",
      "_view_count": null,
      "_view_module": "@jupyter-widgets/controls",
      "_view_module_version": "1.5.0",
      "_view_name": "ProgressView",
      "bar_style": "",
      "description": "Processing: ",
      "description_tooltip": null,
      "layout": "IPY_MODEL_4c83e5b447b844c4a7edece81c8a9c2e",
      "max": 5,
      "min": 0,
      "orientation": "horizontal",
      "style": "IPY_MODEL_191f2c966aba4f60b8a4807fd80eb076",
      "value": 5
     }
    },
    "6c090c6a19a2478fa07246c62637f329": {
     "model_module": "@jupyter-widgets/controls",
     "model_name": "IntProgressModel",
     "state": {
      "_dom_classes": [],
      "_model_module": "@jupyter-widgets/controls",
      "_model_module_version": "1.5.0",
      "_model_name": "IntProgressModel",
      "_view_count": null,
      "_view_module": "@jupyter-widgets/controls",
      "_view_module_version": "1.5.0",
      "_view_name": "ProgressView",
      "bar_style": "",
      "description": "Processing: ",
      "description_tooltip": null,
      "layout": "IPY_MODEL_1a8c2c4e496641328682c7a2c22c2aad",
      "max": 7,
      "min": 0,
      "orientation": "horizontal",
      "style": "IPY_MODEL_2d9d216b258448238dd3857305813344",
      "value": 7
     }
    },
    "6c49ab1a7e5543e688de0da6b81d4666": {
     "model_module": "@jupyter-widgets/base",
     "model_name": "LayoutModel",
     "state": {
      "_model_module": "@jupyter-widgets/base",
      "_model_module_version": "1.2.0",
      "_model_name": "LayoutModel",
      "_view_count": null,
      "_view_module": "@jupyter-widgets/base",
      "_view_module_version": "1.2.0",
      "_view_name": "LayoutView",
      "align_content": null,
      "align_items": null,
      "align_self": null,
      "border": null,
      "bottom": null,
      "display": null,
      "flex": null,
      "flex_flow": null,
      "grid_area": null,
      "grid_auto_columns": null,
      "grid_auto_flow": null,
      "grid_auto_rows": null,
      "grid_column": null,
      "grid_gap": null,
      "grid_row": null,
      "grid_template_areas": null,
      "grid_template_columns": null,
      "grid_template_rows": null,
      "height": null,
      "justify_content": null,
      "justify_items": null,
      "left": null,
      "margin": null,
      "max_height": null,
      "max_width": null,
      "min_height": null,
      "min_width": null,
      "object_fit": null,
      "object_position": null,
      "order": null,
      "overflow": null,
      "overflow_x": null,
      "overflow_y": null,
      "padding": null,
      "right": null,
      "top": null,
      "visibility": null,
      "width": null
     }
    },
    "6c9147c257e64fa78bcf265c3b6c6a7b": {
     "model_module": "@jupyter-widgets/controls",
     "model_name": "ProgressStyleModel",
     "state": {
      "_model_module": "@jupyter-widgets/controls",
      "_model_module_version": "1.5.0",
      "_model_name": "ProgressStyleModel",
      "_view_count": null,
      "_view_module": "@jupyter-widgets/base",
      "_view_module_version": "1.2.0",
      "_view_name": "StyleView",
      "bar_color": null,
      "description_width": ""
     }
    },
    "72c986d1c1a9483bbcb9bacd2919309b": {
     "model_module": "@jupyter-widgets/controls",
     "model_name": "ProgressStyleModel",
     "state": {
      "_model_module": "@jupyter-widgets/controls",
      "_model_module_version": "1.5.0",
      "_model_name": "ProgressStyleModel",
      "_view_count": null,
      "_view_module": "@jupyter-widgets/base",
      "_view_module_version": "1.2.0",
      "_view_name": "StyleView",
      "bar_color": null,
      "description_width": ""
     }
    },
    "75edc2faa9cf47b78e10d78678e54a5d": {
     "model_module": "@jupyter-widgets/controls",
     "model_name": "ProgressStyleModel",
     "state": {
      "_model_module": "@jupyter-widgets/controls",
      "_model_module_version": "1.5.0",
      "_model_name": "ProgressStyleModel",
      "_view_count": null,
      "_view_module": "@jupyter-widgets/base",
      "_view_module_version": "1.2.0",
      "_view_name": "StyleView",
      "bar_color": null,
      "description_width": ""
     }
    },
    "76e0afdd533d4171b726caf4303c2c91": {
     "model_module": "@jupyter-widgets/controls",
     "model_name": "ProgressStyleModel",
     "state": {
      "_model_module": "@jupyter-widgets/controls",
      "_model_module_version": "1.5.0",
      "_model_name": "ProgressStyleModel",
      "_view_count": null,
      "_view_module": "@jupyter-widgets/base",
      "_view_module_version": "1.2.0",
      "_view_name": "StyleView",
      "bar_color": null,
      "description_width": ""
     }
    },
    "7711f894795349f2bd348f0cd3529b9f": {
     "model_module": "@jupyter-widgets/controls",
     "model_name": "IntProgressModel",
     "state": {
      "_dom_classes": [],
      "_model_module": "@jupyter-widgets/controls",
      "_model_module_version": "1.5.0",
      "_model_name": "IntProgressModel",
      "_view_count": null,
      "_view_module": "@jupyter-widgets/controls",
      "_view_module_version": "1.5.0",
      "_view_name": "ProgressView",
      "bar_style": "",
      "description": "Processing: ",
      "description_tooltip": null,
      "layout": "IPY_MODEL_6831966f88574887b61d1d5c008bc05d",
      "max": 4,
      "min": 0,
      "orientation": "horizontal",
      "style": "IPY_MODEL_b7fa5809a2214c388fcb2844fae873ad",
      "value": 4
     }
    },
    "78367bde657f44c1aba30ba38b7c5853": {
     "model_module": "@jupyter-widgets/controls",
     "model_name": "IntProgressModel",
     "state": {
      "_dom_classes": [],
      "_model_module": "@jupyter-widgets/controls",
      "_model_module_version": "1.5.0",
      "_model_name": "IntProgressModel",
      "_view_count": null,
      "_view_module": "@jupyter-widgets/controls",
      "_view_module_version": "1.5.0",
      "_view_name": "ProgressView",
      "bar_style": "",
      "description": "Processing: ",
      "description_tooltip": null,
      "layout": "IPY_MODEL_6c49ab1a7e5543e688de0da6b81d4666",
      "max": 6,
      "min": 0,
      "orientation": "horizontal",
      "style": "IPY_MODEL_2c8748d02b5547e582e1b36012eb2400",
      "value": 6
     }
    },
    "7b85fe9d1a774e7ca4d1667519b4297e": {
     "model_module": "@jupyter-widgets/controls",
     "model_name": "IntProgressModel",
     "state": {
      "_dom_classes": [],
      "_model_module": "@jupyter-widgets/controls",
      "_model_module_version": "1.5.0",
      "_model_name": "IntProgressModel",
      "_view_count": null,
      "_view_module": "@jupyter-widgets/controls",
      "_view_module_version": "1.5.0",
      "_view_name": "ProgressView",
      "bar_style": "",
      "description": "Processing: ",
      "description_tooltip": null,
      "layout": "IPY_MODEL_110488d413774d118e277866d63ff233",
      "max": 7,
      "min": 0,
      "orientation": "horizontal",
      "style": "IPY_MODEL_6c9147c257e64fa78bcf265c3b6c6a7b",
      "value": 7
     }
    },
    "7d033e382c3f4d8f81942d081ae65dd6": {
     "model_module": "@jupyter-widgets/base",
     "model_name": "LayoutModel",
     "state": {
      "_model_module": "@jupyter-widgets/base",
      "_model_module_version": "1.2.0",
      "_model_name": "LayoutModel",
      "_view_count": null,
      "_view_module": "@jupyter-widgets/base",
      "_view_module_version": "1.2.0",
      "_view_name": "LayoutView",
      "align_content": null,
      "align_items": null,
      "align_self": null,
      "border": null,
      "bottom": null,
      "display": null,
      "flex": null,
      "flex_flow": null,
      "grid_area": null,
      "grid_auto_columns": null,
      "grid_auto_flow": null,
      "grid_auto_rows": null,
      "grid_column": null,
      "grid_gap": null,
      "grid_row": null,
      "grid_template_areas": null,
      "grid_template_columns": null,
      "grid_template_rows": null,
      "height": null,
      "justify_content": null,
      "justify_items": null,
      "left": null,
      "margin": null,
      "max_height": null,
      "max_width": null,
      "min_height": null,
      "min_width": null,
      "object_fit": null,
      "object_position": null,
      "order": null,
      "overflow": null,
      "overflow_x": null,
      "overflow_y": null,
      "padding": null,
      "right": null,
      "top": null,
      "visibility": null,
      "width": null
     }
    },
    "87278e3304584f389609ee8462fa379f": {
     "model_module": "@jupyter-widgets/controls",
     "model_name": "ProgressStyleModel",
     "state": {
      "_model_module": "@jupyter-widgets/controls",
      "_model_module_version": "1.5.0",
      "_model_name": "ProgressStyleModel",
      "_view_count": null,
      "_view_module": "@jupyter-widgets/base",
      "_view_module_version": "1.2.0",
      "_view_name": "StyleView",
      "bar_color": null,
      "description_width": ""
     }
    },
    "8e8ec46141224b5f912176dbba766c9f": {
     "model_module": "@jupyter-widgets/controls",
     "model_name": "IntProgressModel",
     "state": {
      "_dom_classes": [],
      "_model_module": "@jupyter-widgets/controls",
      "_model_module_version": "1.5.0",
      "_model_name": "IntProgressModel",
      "_view_count": null,
      "_view_module": "@jupyter-widgets/controls",
      "_view_module_version": "1.5.0",
      "_view_name": "ProgressView",
      "bar_style": "",
      "description": "Processing: ",
      "description_tooltip": null,
      "layout": "IPY_MODEL_cb0775aa83664e158f5ac15c30c2b8ad",
      "max": 7,
      "min": 0,
      "orientation": "horizontal",
      "style": "IPY_MODEL_f1b7c168a64144d8ba2c98057607516d",
      "value": 7
     }
    },
    "9087c1f908f646178ebf0fcf1d33002e": {
     "model_module": "@jupyter-widgets/base",
     "model_name": "LayoutModel",
     "state": {
      "_model_module": "@jupyter-widgets/base",
      "_model_module_version": "1.2.0",
      "_model_name": "LayoutModel",
      "_view_count": null,
      "_view_module": "@jupyter-widgets/base",
      "_view_module_version": "1.2.0",
      "_view_name": "LayoutView",
      "align_content": null,
      "align_items": null,
      "align_self": null,
      "border": null,
      "bottom": null,
      "display": null,
      "flex": null,
      "flex_flow": null,
      "grid_area": null,
      "grid_auto_columns": null,
      "grid_auto_flow": null,
      "grid_auto_rows": null,
      "grid_column": null,
      "grid_gap": null,
      "grid_row": null,
      "grid_template_areas": null,
      "grid_template_columns": null,
      "grid_template_rows": null,
      "height": null,
      "justify_content": null,
      "justify_items": null,
      "left": null,
      "margin": null,
      "max_height": null,
      "max_width": null,
      "min_height": null,
      "min_width": null,
      "object_fit": null,
      "object_position": null,
      "order": null,
      "overflow": null,
      "overflow_x": null,
      "overflow_y": null,
      "padding": null,
      "right": null,
      "top": null,
      "visibility": null,
      "width": null
     }
    },
    "91575d7c5dfc4f6c8a7cf32bf28a83e8": {
     "model_module": "@jupyter-widgets/controls",
     "model_name": "IntProgressModel",
     "state": {
      "_dom_classes": [],
      "_model_module": "@jupyter-widgets/controls",
      "_model_module_version": "1.5.0",
      "_model_name": "IntProgressModel",
      "_view_count": null,
      "_view_module": "@jupyter-widgets/controls",
      "_view_module_version": "1.5.0",
      "_view_name": "ProgressView",
      "bar_style": "",
      "description": "Processing: ",
      "description_tooltip": null,
      "layout": "IPY_MODEL_5cff74918e79401583ec84f4088e8f86",
      "max": 5,
      "min": 0,
      "orientation": "horizontal",
      "style": "IPY_MODEL_76e0afdd533d4171b726caf4303c2c91",
      "value": 5
     }
    },
    "919af9daa546475ca551b1c1f99a5dc2": {
     "model_module": "@jupyter-widgets/base",
     "model_name": "LayoutModel",
     "state": {
      "_model_module": "@jupyter-widgets/base",
      "_model_module_version": "1.2.0",
      "_model_name": "LayoutModel",
      "_view_count": null,
      "_view_module": "@jupyter-widgets/base",
      "_view_module_version": "1.2.0",
      "_view_name": "LayoutView",
      "align_content": null,
      "align_items": null,
      "align_self": null,
      "border": null,
      "bottom": null,
      "display": null,
      "flex": null,
      "flex_flow": null,
      "grid_area": null,
      "grid_auto_columns": null,
      "grid_auto_flow": null,
      "grid_auto_rows": null,
      "grid_column": null,
      "grid_gap": null,
      "grid_row": null,
      "grid_template_areas": null,
      "grid_template_columns": null,
      "grid_template_rows": null,
      "height": null,
      "justify_content": null,
      "justify_items": null,
      "left": null,
      "margin": null,
      "max_height": null,
      "max_width": null,
      "min_height": null,
      "min_width": null,
      "object_fit": null,
      "object_position": null,
      "order": null,
      "overflow": null,
      "overflow_x": null,
      "overflow_y": null,
      "padding": null,
      "right": null,
      "top": null,
      "visibility": null,
      "width": null
     }
    },
    "92a15d7eb8e54d7686f509113b9d2268": {
     "model_module": "@jupyter-widgets/base",
     "model_name": "LayoutModel",
     "state": {
      "_model_module": "@jupyter-widgets/base",
      "_model_module_version": "1.2.0",
      "_model_name": "LayoutModel",
      "_view_count": null,
      "_view_module": "@jupyter-widgets/base",
      "_view_module_version": "1.2.0",
      "_view_name": "LayoutView",
      "align_content": null,
      "align_items": null,
      "align_self": null,
      "border": null,
      "bottom": null,
      "display": null,
      "flex": null,
      "flex_flow": null,
      "grid_area": null,
      "grid_auto_columns": null,
      "grid_auto_flow": null,
      "grid_auto_rows": null,
      "grid_column": null,
      "grid_gap": null,
      "grid_row": null,
      "grid_template_areas": null,
      "grid_template_columns": null,
      "grid_template_rows": null,
      "height": null,
      "justify_content": null,
      "justify_items": null,
      "left": null,
      "margin": null,
      "max_height": null,
      "max_width": null,
      "min_height": null,
      "min_width": null,
      "object_fit": null,
      "object_position": null,
      "order": null,
      "overflow": null,
      "overflow_x": null,
      "overflow_y": null,
      "padding": null,
      "right": null,
      "top": null,
      "visibility": null,
      "width": null
     }
    },
    "99e3626b1a4c46eebb4c4c4c3bd65e73": {
     "model_module": "@jupyter-widgets/controls",
     "model_name": "TextModel",
     "state": {
      "_dom_classes": [],
      "_model_module": "@jupyter-widgets/controls",
      "_model_module_version": "1.5.0",
      "_model_name": "TextModel",
      "_view_count": null,
      "_view_module": "@jupyter-widgets/controls",
      "_view_module_version": "1.5.0",
      "_view_name": "TextView",
      "continuous_update": true,
      "description": "",
      "description_tooltip": null,
      "disabled": false,
      "layout": "IPY_MODEL_e9577f2267894a61a8e6ff29077e43d6",
      "placeholder": "​",
      "style": "IPY_MODEL_1aaf6b876dca40d5b908891bffadce07",
      "value": "Following data types have been inferred automatically, if they are correct press enter to continue or type 'quit' otherwise."
     }
    },
    "a15185b88e3d4883b54e645cd5025e48": {
     "model_module": "@jupyter-widgets/base",
     "model_name": "LayoutModel",
     "state": {
      "_model_module": "@jupyter-widgets/base",
      "_model_module_version": "1.2.0",
      "_model_name": "LayoutModel",
      "_view_count": null,
      "_view_module": "@jupyter-widgets/base",
      "_view_module_version": "1.2.0",
      "_view_name": "LayoutView",
      "align_content": null,
      "align_items": null,
      "align_self": null,
      "border": null,
      "bottom": null,
      "display": null,
      "flex": null,
      "flex_flow": null,
      "grid_area": null,
      "grid_auto_columns": null,
      "grid_auto_flow": null,
      "grid_auto_rows": null,
      "grid_column": null,
      "grid_gap": null,
      "grid_row": null,
      "grid_template_areas": null,
      "grid_template_columns": null,
      "grid_template_rows": null,
      "height": null,
      "justify_content": null,
      "justify_items": null,
      "left": null,
      "margin": null,
      "max_height": null,
      "max_width": null,
      "min_height": null,
      "min_width": null,
      "object_fit": null,
      "object_position": null,
      "order": null,
      "overflow": null,
      "overflow_x": null,
      "overflow_y": null,
      "padding": null,
      "right": null,
      "top": null,
      "visibility": null,
      "width": null
     }
    },
    "a62f91128d1a4760b31618edd6cd9775": {
     "model_module": "@jupyter-widgets/controls",
     "model_name": "ProgressStyleModel",
     "state": {
      "_model_module": "@jupyter-widgets/controls",
      "_model_module_version": "1.5.0",
      "_model_name": "ProgressStyleModel",
      "_view_count": null,
      "_view_module": "@jupyter-widgets/base",
      "_view_module_version": "1.2.0",
      "_view_name": "StyleView",
      "bar_color": null,
      "description_width": ""
     }
    },
    "a687f4b6663f4e11892b0d4e9912416d": {
     "model_module": "@jupyter-widgets/controls",
     "model_name": "IntProgressModel",
     "state": {
      "_dom_classes": [],
      "_model_module": "@jupyter-widgets/controls",
      "_model_module_version": "1.5.0",
      "_model_name": "IntProgressModel",
      "_view_count": null,
      "_view_module": "@jupyter-widgets/controls",
      "_view_module_version": "1.5.0",
      "_view_name": "ProgressView",
      "bar_style": "",
      "description": "Processing: ",
      "description_tooltip": null,
      "layout": "IPY_MODEL_92a15d7eb8e54d7686f509113b9d2268",
      "max": 4,
      "min": 0,
      "orientation": "horizontal",
      "style": "IPY_MODEL_0387432d0255444b827075b66775626c",
      "value": 4
     }
    },
    "adf77bce5c2a4dbd886a252a0d67503b": {
     "model_module": "@jupyter-widgets/controls",
     "model_name": "ProgressStyleModel",
     "state": {
      "_model_module": "@jupyter-widgets/controls",
      "_model_module_version": "1.5.0",
      "_model_name": "ProgressStyleModel",
      "_view_count": null,
      "_view_module": "@jupyter-widgets/base",
      "_view_module_version": "1.2.0",
      "_view_name": "StyleView",
      "bar_color": null,
      "description_width": ""
     }
    },
    "b14f93e0d7ad4fbb943903f07651059d": {
     "model_module": "@jupyter-widgets/controls",
     "model_name": "IntProgressModel",
     "state": {
      "_dom_classes": [],
      "_model_module": "@jupyter-widgets/controls",
      "_model_module_version": "1.5.0",
      "_model_name": "IntProgressModel",
      "_view_count": null,
      "_view_module": "@jupyter-widgets/controls",
      "_view_module_version": "1.5.0",
      "_view_name": "ProgressView",
      "bar_style": "",
      "description": "Processing: ",
      "description_tooltip": null,
      "layout": "IPY_MODEL_7d033e382c3f4d8f81942d081ae65dd6",
      "max": 6,
      "min": 0,
      "orientation": "horizontal",
      "style": "IPY_MODEL_63b80e3da75c41dfa0bab39df752d57e",
      "value": 6
     }
    },
    "b5a46dff2fa14f0b9ccd0ce897ca6833": {
     "model_module": "@jupyter-widgets/base",
     "model_name": "LayoutModel",
     "state": {
      "_model_module": "@jupyter-widgets/base",
      "_model_module_version": "1.2.0",
      "_model_name": "LayoutModel",
      "_view_count": null,
      "_view_module": "@jupyter-widgets/base",
      "_view_module_version": "1.2.0",
      "_view_name": "LayoutView",
      "align_content": null,
      "align_items": null,
      "align_self": null,
      "border": null,
      "bottom": null,
      "display": null,
      "flex": null,
      "flex_flow": null,
      "grid_area": null,
      "grid_auto_columns": null,
      "grid_auto_flow": null,
      "grid_auto_rows": null,
      "grid_column": null,
      "grid_gap": null,
      "grid_row": null,
      "grid_template_areas": null,
      "grid_template_columns": null,
      "grid_template_rows": null,
      "height": null,
      "justify_content": null,
      "justify_items": null,
      "left": null,
      "margin": null,
      "max_height": null,
      "max_width": null,
      "min_height": null,
      "min_width": null,
      "object_fit": null,
      "object_position": null,
      "order": null,
      "overflow": null,
      "overflow_x": null,
      "overflow_y": null,
      "padding": null,
      "right": null,
      "top": null,
      "visibility": null,
      "width": null
     }
    },
    "b5a8404c2a344e6595a4f1d3c70a1d2c": {
     "model_module": "@jupyter-widgets/controls",
     "model_name": "ProgressStyleModel",
     "state": {
      "_model_module": "@jupyter-widgets/controls",
      "_model_module_version": "1.5.0",
      "_model_name": "ProgressStyleModel",
      "_view_count": null,
      "_view_module": "@jupyter-widgets/base",
      "_view_module_version": "1.2.0",
      "_view_name": "StyleView",
      "bar_color": null,
      "description_width": ""
     }
    },
    "b7fa5809a2214c388fcb2844fae873ad": {
     "model_module": "@jupyter-widgets/controls",
     "model_name": "ProgressStyleModel",
     "state": {
      "_model_module": "@jupyter-widgets/controls",
      "_model_module_version": "1.5.0",
      "_model_name": "ProgressStyleModel",
      "_view_count": null,
      "_view_module": "@jupyter-widgets/base",
      "_view_module_version": "1.2.0",
      "_view_name": "StyleView",
      "bar_color": null,
      "description_width": ""
     }
    },
    "ba1562c930b8409599591d07f8ca450a": {
     "model_module": "@jupyter-widgets/controls",
     "model_name": "ProgressStyleModel",
     "state": {
      "_model_module": "@jupyter-widgets/controls",
      "_model_module_version": "1.5.0",
      "_model_name": "ProgressStyleModel",
      "_view_count": null,
      "_view_module": "@jupyter-widgets/base",
      "_view_module_version": "1.2.0",
      "_view_name": "StyleView",
      "bar_color": null,
      "description_width": ""
     }
    },
    "bf9565c7b1b24c92b83b0e03b36e892e": {
     "model_module": "@jupyter-widgets/base",
     "model_name": "LayoutModel",
     "state": {
      "_model_module": "@jupyter-widgets/base",
      "_model_module_version": "1.2.0",
      "_model_name": "LayoutModel",
      "_view_count": null,
      "_view_module": "@jupyter-widgets/base",
      "_view_module_version": "1.2.0",
      "_view_name": "LayoutView",
      "align_content": null,
      "align_items": null,
      "align_self": null,
      "border": null,
      "bottom": null,
      "display": null,
      "flex": null,
      "flex_flow": null,
      "grid_area": null,
      "grid_auto_columns": null,
      "grid_auto_flow": null,
      "grid_auto_rows": null,
      "grid_column": null,
      "grid_gap": null,
      "grid_row": null,
      "grid_template_areas": null,
      "grid_template_columns": null,
      "grid_template_rows": null,
      "height": null,
      "justify_content": null,
      "justify_items": null,
      "left": null,
      "margin": null,
      "max_height": null,
      "max_width": null,
      "min_height": null,
      "min_width": null,
      "object_fit": null,
      "object_position": null,
      "order": null,
      "overflow": null,
      "overflow_x": null,
      "overflow_y": null,
      "padding": null,
      "right": null,
      "top": null,
      "visibility": null,
      "width": null
     }
    },
    "cb0775aa83664e158f5ac15c30c2b8ad": {
     "model_module": "@jupyter-widgets/base",
     "model_name": "LayoutModel",
     "state": {
      "_model_module": "@jupyter-widgets/base",
      "_model_module_version": "1.2.0",
      "_model_name": "LayoutModel",
      "_view_count": null,
      "_view_module": "@jupyter-widgets/base",
      "_view_module_version": "1.2.0",
      "_view_name": "LayoutView",
      "align_content": null,
      "align_items": null,
      "align_self": null,
      "border": null,
      "bottom": null,
      "display": null,
      "flex": null,
      "flex_flow": null,
      "grid_area": null,
      "grid_auto_columns": null,
      "grid_auto_flow": null,
      "grid_auto_rows": null,
      "grid_column": null,
      "grid_gap": null,
      "grid_row": null,
      "grid_template_areas": null,
      "grid_template_columns": null,
      "grid_template_rows": null,
      "height": null,
      "justify_content": null,
      "justify_items": null,
      "left": null,
      "margin": null,
      "max_height": null,
      "max_width": null,
      "min_height": null,
      "min_width": null,
      "object_fit": null,
      "object_position": null,
      "order": null,
      "overflow": null,
      "overflow_x": null,
      "overflow_y": null,
      "padding": null,
      "right": null,
      "top": null,
      "visibility": null,
      "width": null
     }
    },
    "cbdab130298b40d3ada12a86624a7dee": {
     "model_module": "@jupyter-widgets/controls",
     "model_name": "IntProgressModel",
     "state": {
      "_dom_classes": [],
      "_model_module": "@jupyter-widgets/controls",
      "_model_module_version": "1.5.0",
      "_model_name": "IntProgressModel",
      "_view_count": null,
      "_view_module": "@jupyter-widgets/controls",
      "_view_module_version": "1.5.0",
      "_view_name": "ProgressView",
      "bar_style": "",
      "description": "Processing: ",
      "description_tooltip": null,
      "layout": "IPY_MODEL_578f735abd1b4b9da0c316807d0d8b84",
      "max": 6,
      "min": 0,
      "orientation": "horizontal",
      "style": "IPY_MODEL_cdfb9e43e1ce4ec19c677c9dc14958ae",
      "value": 6
     }
    },
    "cdfb9e43e1ce4ec19c677c9dc14958ae": {
     "model_module": "@jupyter-widgets/controls",
     "model_name": "ProgressStyleModel",
     "state": {
      "_model_module": "@jupyter-widgets/controls",
      "_model_module_version": "1.5.0",
      "_model_name": "ProgressStyleModel",
      "_view_count": null,
      "_view_module": "@jupyter-widgets/base",
      "_view_module_version": "1.2.0",
      "_view_name": "StyleView",
      "bar_color": null,
      "description_width": ""
     }
    },
    "d24bda5bf91249129b5e9e7a3b5bb3b2": {
     "model_module": "@jupyter-widgets/base",
     "model_name": "LayoutModel",
     "state": {
      "_model_module": "@jupyter-widgets/base",
      "_model_module_version": "1.2.0",
      "_model_name": "LayoutModel",
      "_view_count": null,
      "_view_module": "@jupyter-widgets/base",
      "_view_module_version": "1.2.0",
      "_view_name": "LayoutView",
      "align_content": null,
      "align_items": null,
      "align_self": null,
      "border": null,
      "bottom": null,
      "display": null,
      "flex": null,
      "flex_flow": null,
      "grid_area": null,
      "grid_auto_columns": null,
      "grid_auto_flow": null,
      "grid_auto_rows": null,
      "grid_column": null,
      "grid_gap": null,
      "grid_row": null,
      "grid_template_areas": null,
      "grid_template_columns": null,
      "grid_template_rows": null,
      "height": null,
      "justify_content": null,
      "justify_items": null,
      "left": null,
      "margin": null,
      "max_height": null,
      "max_width": null,
      "min_height": null,
      "min_width": null,
      "object_fit": null,
      "object_position": null,
      "order": null,
      "overflow": null,
      "overflow_x": null,
      "overflow_y": null,
      "padding": null,
      "right": null,
      "top": null,
      "visibility": null,
      "width": null
     }
    },
    "d382c9dd383648bf86c1d4ea1c96c5a6": {
     "model_module": "@jupyter-widgets/controls",
     "model_name": "IntProgressModel",
     "state": {
      "_dom_classes": [],
      "_model_module": "@jupyter-widgets/controls",
      "_model_module_version": "1.5.0",
      "_model_name": "IntProgressModel",
      "_view_count": null,
      "_view_module": "@jupyter-widgets/controls",
      "_view_module_version": "1.5.0",
      "_view_name": "ProgressView",
      "bar_style": "",
      "description": "Processing: ",
      "description_tooltip": null,
      "layout": "IPY_MODEL_fd1ee77d2ae942879e7b81bb751ea9ce",
      "max": 79,
      "min": 0,
      "orientation": "horizontal",
      "style": "IPY_MODEL_6b09b0c4ea144e779f2add24bc16bee2",
      "value": 79
     }
    },
    "d84d8d6b07244d3893f2e4a3ca08db6a": {
     "model_module": "@jupyter-widgets/controls",
     "model_name": "ProgressStyleModel",
     "state": {
      "_model_module": "@jupyter-widgets/controls",
      "_model_module_version": "1.5.0",
      "_model_name": "ProgressStyleModel",
      "_view_count": null,
      "_view_module": "@jupyter-widgets/base",
      "_view_module_version": "1.2.0",
      "_view_name": "StyleView",
      "bar_color": null,
      "description_width": ""
     }
    },
    "e84b796e183e4ae5b3f8c1df31668c8b": {
     "model_module": "@jupyter-widgets/controls",
     "model_name": "IntProgressModel",
     "state": {
      "_dom_classes": [],
      "_model_module": "@jupyter-widgets/controls",
      "_model_module_version": "1.5.0",
      "_model_name": "IntProgressModel",
      "_view_count": null,
      "_view_module": "@jupyter-widgets/controls",
      "_view_module_version": "1.5.0",
      "_view_name": "ProgressView",
      "bar_style": "",
      "description": "Processing: ",
      "description_tooltip": null,
      "layout": "IPY_MODEL_2be6002b812f453aac75b4a059af40e7",
      "max": 7,
      "min": 0,
      "orientation": "horizontal",
      "style": "IPY_MODEL_72c986d1c1a9483bbcb9bacd2919309b",
      "value": 7
     }
    },
    "e9577f2267894a61a8e6ff29077e43d6": {
     "model_module": "@jupyter-widgets/base",
     "model_name": "LayoutModel",
     "state": {
      "_model_module": "@jupyter-widgets/base",
      "_model_module_version": "1.2.0",
      "_model_name": "LayoutModel",
      "_view_count": null,
      "_view_module": "@jupyter-widgets/base",
      "_view_module_version": "1.2.0",
      "_view_name": "LayoutView",
      "align_content": null,
      "align_items": null,
      "align_self": null,
      "border": null,
      "bottom": null,
      "display": null,
      "flex": null,
      "flex_flow": null,
      "grid_area": null,
      "grid_auto_columns": null,
      "grid_auto_flow": null,
      "grid_auto_rows": null,
      "grid_column": null,
      "grid_gap": null,
      "grid_row": null,
      "grid_template_areas": null,
      "grid_template_columns": null,
      "grid_template_rows": null,
      "height": null,
      "justify_content": null,
      "justify_items": null,
      "left": null,
      "margin": null,
      "max_height": null,
      "max_width": null,
      "min_height": null,
      "min_width": null,
      "object_fit": null,
      "object_position": null,
      "order": null,
      "overflow": null,
      "overflow_x": null,
      "overflow_y": null,
      "padding": null,
      "right": null,
      "top": null,
      "visibility": null,
      "width": "100%"
     }
    },
    "f1b7c168a64144d8ba2c98057607516d": {
     "model_module": "@jupyter-widgets/controls",
     "model_name": "ProgressStyleModel",
     "state": {
      "_model_module": "@jupyter-widgets/controls",
      "_model_module_version": "1.5.0",
      "_model_name": "ProgressStyleModel",
      "_view_count": null,
      "_view_module": "@jupyter-widgets/base",
      "_view_module_version": "1.2.0",
      "_view_name": "StyleView",
      "bar_color": null,
      "description_width": ""
     }
    },
    "f3029dfa5b53474b9997843ed096bbe0": {
     "model_module": "@jupyter-widgets/controls",
     "model_name": "ProgressStyleModel",
     "state": {
      "_model_module": "@jupyter-widgets/controls",
      "_model_module_version": "1.5.0",
      "_model_name": "ProgressStyleModel",
      "_view_count": null,
      "_view_module": "@jupyter-widgets/base",
      "_view_module_version": "1.2.0",
      "_view_name": "StyleView",
      "bar_color": null,
      "description_width": ""
     }
    },
    "f710a5d30d2448239c8c78a7d842a747": {
     "model_module": "@jupyter-widgets/base",
     "model_name": "LayoutModel",
     "state": {
      "_model_module": "@jupyter-widgets/base",
      "_model_module_version": "1.2.0",
      "_model_name": "LayoutModel",
      "_view_count": null,
      "_view_module": "@jupyter-widgets/base",
      "_view_module_version": "1.2.0",
      "_view_name": "LayoutView",
      "align_content": null,
      "align_items": null,
      "align_self": null,
      "border": null,
      "bottom": null,
      "display": null,
      "flex": null,
      "flex_flow": null,
      "grid_area": null,
      "grid_auto_columns": null,
      "grid_auto_flow": null,
      "grid_auto_rows": null,
      "grid_column": null,
      "grid_gap": null,
      "grid_row": null,
      "grid_template_areas": null,
      "grid_template_columns": null,
      "grid_template_rows": null,
      "height": null,
      "justify_content": null,
      "justify_items": null,
      "left": null,
      "margin": null,
      "max_height": null,
      "max_width": null,
      "min_height": null,
      "min_width": null,
      "object_fit": null,
      "object_position": null,
      "order": null,
      "overflow": null,
      "overflow_x": null,
      "overflow_y": null,
      "padding": null,
      "right": null,
      "top": null,
      "visibility": null,
      "width": null
     }
    },
    "fc1b219a79e34204aeddd72c5364e3c8": {
     "model_module": "@jupyter-widgets/controls",
     "model_name": "ProgressStyleModel",
     "state": {
      "_model_module": "@jupyter-widgets/controls",
      "_model_module_version": "1.5.0",
      "_model_name": "ProgressStyleModel",
      "_view_count": null,
      "_view_module": "@jupyter-widgets/base",
      "_view_module_version": "1.2.0",
      "_view_name": "StyleView",
      "bar_color": null,
      "description_width": ""
     }
    },
    "fc93e8eea4ba4b55854b77f54a78e114": {
     "model_module": "@jupyter-widgets/controls",
     "model_name": "ProgressStyleModel",
     "state": {
      "_model_module": "@jupyter-widgets/controls",
      "_model_module_version": "1.5.0",
      "_model_name": "ProgressStyleModel",
      "_view_count": null,
      "_view_module": "@jupyter-widgets/base",
      "_view_module_version": "1.2.0",
      "_view_name": "StyleView",
      "bar_color": null,
      "description_width": ""
     }
    },
    "fd1ee77d2ae942879e7b81bb751ea9ce": {
     "model_module": "@jupyter-widgets/base",
     "model_name": "LayoutModel",
     "state": {
      "_model_module": "@jupyter-widgets/base",
      "_model_module_version": "1.2.0",
      "_model_name": "LayoutModel",
      "_view_count": null,
      "_view_module": "@jupyter-widgets/base",
      "_view_module_version": "1.2.0",
      "_view_name": "LayoutView",
      "align_content": null,
      "align_items": null,
      "align_self": null,
      "border": null,
      "bottom": null,
      "display": null,
      "flex": null,
      "flex_flow": null,
      "grid_area": null,
      "grid_auto_columns": null,
      "grid_auto_flow": null,
      "grid_auto_rows": null,
      "grid_column": null,
      "grid_gap": null,
      "grid_row": null,
      "grid_template_areas": null,
      "grid_template_columns": null,
      "grid_template_rows": null,
      "height": null,
      "justify_content": null,
      "justify_items": null,
      "left": null,
      "margin": null,
      "max_height": null,
      "max_width": null,
      "min_height": null,
      "min_width": null,
      "object_fit": null,
      "object_position": null,
      "order": null,
      "overflow": null,
      "overflow_x": null,
      "overflow_y": null,
      "padding": null,
      "right": null,
      "top": null,
      "visibility": null,
      "width": null
     }
    },
    "fd2455ee141945db841009fe6a4cce95": {
     "model_module": "@jupyter-widgets/base",
     "model_name": "LayoutModel",
     "state": {
      "_model_module": "@jupyter-widgets/base",
      "_model_module_version": "1.2.0",
      "_model_name": "LayoutModel",
      "_view_count": null,
      "_view_module": "@jupyter-widgets/base",
      "_view_module_version": "1.2.0",
      "_view_name": "LayoutView",
      "align_content": null,
      "align_items": null,
      "align_self": null,
      "border": null,
      "bottom": null,
      "display": null,
      "flex": null,
      "flex_flow": null,
      "grid_area": null,
      "grid_auto_columns": null,
      "grid_auto_flow": null,
      "grid_auto_rows": null,
      "grid_column": null,
      "grid_gap": null,
      "grid_row": null,
      "grid_template_areas": null,
      "grid_template_columns": null,
      "grid_template_rows": null,
      "height": null,
      "justify_content": null,
      "justify_items": null,
      "left": null,
      "margin": null,
      "max_height": null,
      "max_width": null,
      "min_height": null,
      "min_width": null,
      "object_fit": null,
      "object_position": null,
      "order": null,
      "overflow": null,
      "overflow_x": null,
      "overflow_y": null,
      "padding": null,
      "right": null,
      "top": null,
      "visibility": null,
      "width": null
     }
    },
    "fec49322c61f497095c273c155296100": {
     "model_module": "@jupyter-widgets/controls",
     "model_name": "IntProgressModel",
     "state": {
      "_dom_classes": [],
      "_model_module": "@jupyter-widgets/controls",
      "_model_module_version": "1.5.0",
      "_model_name": "IntProgressModel",
      "_view_count": null,
      "_view_module": "@jupyter-widgets/controls",
      "_view_module_version": "1.5.0",
      "_view_name": "ProgressView",
      "bar_style": "",
      "description": "Processing: ",
      "description_tooltip": null,
      "layout": "IPY_MODEL_51de94c6e9ec441f9f89f6bedad5784e",
      "max": 5,
      "min": 0,
      "orientation": "horizontal",
      "style": "IPY_MODEL_a62f91128d1a4760b31618edd6cd9775",
      "value": 5
     }
    }
   }
  }
 },
 "nbformat": 4,
 "nbformat_minor": 1
}
